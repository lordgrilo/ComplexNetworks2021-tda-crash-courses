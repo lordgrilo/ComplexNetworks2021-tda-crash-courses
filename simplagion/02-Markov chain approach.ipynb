{
 "cells": [
  {
   "cell_type": "markdown",
   "metadata": {},
   "source": [
    "# Markov chain approach on (not augmented) sociopatterns data \n",
    "\n",
    "See Eq.(3.13) in Iacopini, I. (2021). [Modelling the social dynamics of contagion and discovery using dynamical processes on complex networks](https://qmro.qmul.ac.uk/xmlui/handle/123456789/70668) (Doctoral dissertation, Queen Mary University of London.)."
   ]
  },
  {
   "cell_type": "code",
   "execution_count": 1,
   "metadata": {
    "ExecuteTime": {
     "end_time": "2021-11-28T15:13:19.059079Z",
     "start_time": "2021-11-28T15:13:18.104813Z"
    }
   },
   "outputs": [],
   "source": [
    "import networkx as nx\n",
    "import numpy as np\n",
    "from utils_simplagion_MC import *\n",
    "import random as rd\n",
    "\n",
    "import matplotlib.pyplot as plt\n",
    "%matplotlib inline "
   ]
  },
  {
   "cell_type": "markdown",
   "metadata": {},
   "source": [
    "Markov chain function"
   ]
  },
  {
   "cell_type": "code",
   "execution_count": 2,
   "metadata": {
    "ExecuteTime": {
     "end_time": "2021-11-28T15:13:19.198727Z",
     "start_time": "2021-11-28T15:13:19.190130Z"
    }
   },
   "outputs": [],
   "source": [
    "def markovChain(beta, beta_D, mu, node_neighbors_dict, tri_neighbors_dict, NSteps, i0):\n",
    "    N = len(node_neighbors_dict)\n",
    "    p = np.zeros(N)\n",
    "    p[rd.sample(range(N),int(N*i0))] = 1\n",
    "    p_new = np.copy(p)\n",
    "    \n",
    "    q = 1\n",
    "    pTime = [np.mean(p)]\n",
    "    for k in range(0,NSteps):\n",
    "        for i in range(0,N):\n",
    "            \n",
    "            #Updating the q_i (infections) - d=1\n",
    "            for j in node_neighbors_dict[i]:\n",
    "                q *= (1.-beta*p[j])\n",
    "                \n",
    "            #Updating the q_i (infections) - d=2\n",
    "            for j, k in tri_neighbors_dict[i]:\n",
    "                q *= (1.-beta_D*p[j]*p[k])\n",
    "            \n",
    "            #Updating the vector\n",
    "            p_new[i] = (1-q)*(1-p[i]) + (1.-mu)*p[i]\n",
    "            \n",
    "            #Resetting the i-th parameters\n",
    "            q = 1\n",
    "            \n",
    "        p = np.copy(p_new)\n",
    "        pTime.append(np.mean(p))\n",
    "    return np.mean(pTime[int(NSteps*0.8):])"
   ]
  },
  {
   "cell_type": "markdown",
   "metadata": {},
   "source": [
    "Reading clean Sociopatterns data"
   ]
  },
  {
   "cell_type": "code",
   "execution_count": 3,
   "metadata": {
    "ExecuteTime": {
     "end_time": "2021-11-28T15:13:28.820116Z",
     "start_time": "2021-11-28T15:13:28.732399Z"
    }
   },
   "outputs": [],
   "source": [
    "dataset_dir = 'Data/Sociopatterns/thr_data_random/'\n",
    "dataset = 'Thiers13'#'InVS15','SFHH', 'LH10','LyonSchool'\n",
    "n_minutes = 5 #Aggregation time\n",
    "thr = 0.80 #fraction of removed cliques (0.80: retaining the 20% most weighted)\n",
    "\n",
    "node_neighbors_dict, triangles_list, avg_k1, avg_k2 = import_sociopattern_simcomp_SCM(dataset_dir, dataset, n_minutes, thr)\n",
    "tri_neighbors_dict = get_tri_neighbors_dict(triangles_list)\n",
    "\n",
    "mu = 0.05\n",
    "lambda1s = np.linspace(0.0001,1.5,20)\n",
    "lambdaD_target_list = [2.5,2.5,0]\n",
    "I_percentage_list = [40,1,1]\n",
    "\n",
    "betas = 1.*(mu/avg_k1)*lambda1s\n",
    "\n",
    "NSteps = 500"
   ]
  },
  {
   "cell_type": "markdown",
   "metadata": {},
   "source": [
    "Running Makov and saving it to a single list of lists"
   ]
  },
  {
   "cell_type": "code",
   "execution_count": 4,
   "metadata": {
    "ExecuteTime": {
     "end_time": "2021-11-28T15:19:32.107978Z",
     "start_time": "2021-11-28T15:13:29.985560Z"
    }
   },
   "outputs": [],
   "source": [
    "markov_results = []\n",
    "\n",
    "for lambdaD_target, I_percentage in zip(lambdaD_target_list, I_percentage_list):\n",
    "    beta_D = 1.*(mu/avg_k2)*lambdaD_target\n",
    "    i0 = I_percentage/100.\n",
    "    rho_markov = [markovChain(beta, beta_D, mu, node_neighbors_dict, tri_neighbors_dict, NSteps, i0) for beta in betas]\n",
    "    markov_results.append(rho_markov)"
   ]
  },
  {
   "cell_type": "code",
   "execution_count": 7,
   "metadata": {
    "ExecuteTime": {
     "end_time": "2021-11-28T17:22:18.810322Z",
     "start_time": "2021-11-28T17:22:18.634052Z"
    }
   },
   "outputs": [
    {
     "data": {
      "image/png": "[encoded data removed]",
      "text/plain": [
       "<Figure size 432x288 with 1 Axes>"
      ]
     },
     "metadata": {
      "needs_background": "light"
     },
     "output_type": "display_data"
    }
   ],
   "source": [
    "plt.rcParams['xtick.major.width'] = 1.2\n",
    "plt.rcParams['ytick.major.width'] = 1.2\n",
    "plt.rcParams['axes.linewidth'] = 1.2\n",
    "\n",
    "markers = ['s', '^', 'o']\n",
    "linecolor = [plt.cm.YlGnBu(0.3), plt.cm.YlGnBu(0.55), plt.cm.YlGnBu(0.7)]\n",
    "\n",
    "ax = plt.subplot(111)\n",
    "\n",
    "for j, rho in enumerate(markov_results):\n",
    "    ax.plot(lambda1s, rho, '-', color=linecolor[j], lw=1.5, marker=markers[j],\n",
    "            label=r'$\\lambda_\\Delta=%.1f, \\rho_0=%.2f$'%(lambdaD_target_list[j], 0.01*I_percentage_list[j]))\n",
    "        \n",
    "ax.tick_params(axis='both', which='major', labelsize=16)\n",
    "ax.set_xlabel(r'Rescaled infectivity, $\\lambda$', size=16)\n",
    "ax.set_ylabel(r'Density of infected nodes, $\\rho^{*}$', size=16)\n",
    "ax.legend(fontsize=12, handlelength=1, handletextpad=0.3, labelspacing=0.1, borderaxespad=0.2, loc=4)  \n",
    "\n",
    "plt.tight_layout()"
   ]
  },
  {
   "cell_type": "code",
   "execution_count": null,
   "metadata": {},
   "outputs": [],
   "source": []
  }
 ],
 "metadata": {
  "kernelspec": {
   "display_name": "Python 3",
   "language": "python",
   "name": "python3"
  },
  "language_info": {
   "codemirror_mode": {
    "name": "ipython",
    "version": 3
   },
   "file_extension": ".py",
   "mimetype": "text/x-python",
   "name": "python",
   "nbconvert_exporter": "python",
   "pygments_lexer": "ipython3",
   "version": "3.9.8"
  },
  "toc": {
   "base_numbering": 1,
   "nav_menu": {},
   "number_sections": true,
   "sideBar": true,
   "skip_h1_title": false,
   "title_cell": "Table of Contents",
   "title_sidebar": "Contents",
   "toc_cell": false,
   "toc_position": {},
   "toc_section_display": true,
   "toc_window_display": false
  }
 },
 "nbformat": 4,
 "nbformat_minor": 2
}
