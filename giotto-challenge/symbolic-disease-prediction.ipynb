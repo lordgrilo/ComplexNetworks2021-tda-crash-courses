{
 "cells": [
  {
   "cell_type": "code",
   "execution_count": 1,
   "metadata": {
    "ExecuteTime": {
     "end_time": "2021-11-27T14:24:46.221814Z",
     "start_time": "2021-11-27T14:24:46.192521Z"
    }
   },
   "outputs": [],
   "source": [
    "# reload modules before executing user code\n",
    "%load_ext autoreload\n",
    "# reload all modules every time before executing the Python code\n",
    "%autoreload 2"
   ]
  },
  {
   "cell_type": "code",
   "execution_count": 2,
   "metadata": {
    "ExecuteTime": {
     "end_time": "2021-11-27T14:24:48.573419Z",
     "start_time": "2021-11-27T14:24:46.224374Z"
    }
   },
   "outputs": [
    {
     "name": "stdout",
     "output_type": "stream",
     "text": [
      "\u001b[33mDEPRECATION: Configuring installation scheme with distutils config files is deprecated and will no longer work in the near future. If you are using a Homebrew or Linuxbrew Python, please see discussion at https://github.com/Homebrew/homebrew-core/issues/76621\u001b[0m\n",
      "Requirement already satisfied: numpy in /usr/local/Cellar/numpy/1.21.4/lib/python3.9/site-packages (1.21.4)\n",
      "Requirement already satisfied: scipy in /usr/local/lib/python3.9/site-packages (1.7.2)\n",
      "Requirement already satisfied: tsfresh in /usr/local/lib/python3.9/site-packages (0.18.0)\n",
      "Requirement already satisfied: matplotlib in /usr/local/Cellar/graph-tool/2.43/libexec/lib/python3.9/site-packages (3.4.2)\n",
      "Requirement already satisfied: gensim in /usr/local/lib/python3.9/site-packages (3.8.3)\n",
      "Requirement already satisfied: statsmodels>=0.9.0 in /usr/local/lib/python3.9/site-packages (from tsfresh) (0.12.2)\n",
      "Requirement already satisfied: distributed>=2.11.0 in /usr/local/lib/python3.9/site-packages (from tsfresh) (2021.11.2)\n",
      "Requirement already satisfied: dask[dataframe]>=2.9.0 in /usr/local/lib/python3.9/site-packages (from tsfresh) (2021.11.2)\n",
      "Requirement already satisfied: stumpy>=1.7.2 in /usr/local/lib/python3.9/site-packages (from tsfresh) (1.10.0)\n",
      "Requirement already satisfied: patsy>=0.4.1 in /usr/local/lib/python3.9/site-packages (from tsfresh) (0.5.2)\n",
      "Requirement already satisfied: tqdm>=4.10.0 in /usr/local/lib/python3.9/site-packages (from tsfresh) (4.51.0)\n",
      "Requirement already satisfied: requests>=2.9.1 in /usr/local/lib/python3.9/site-packages (from tsfresh) (2.25.0)\n",
      "Requirement already satisfied: pandas>=0.25.0 in /usr/local/lib/python3.9/site-packages (from tsfresh) (1.3.2)\n",
      "Requirement already satisfied: matrixprofile>=1.1.10<2.0.0 in /usr/local/lib/python3.9/site-packages (from tsfresh) (1.1.10)\n",
      "Requirement already satisfied: scikit-learn>=0.22.0 in /usr/local/lib/python3.9/site-packages (from tsfresh) (0.23.2)\n",
      "Requirement already satisfied: cycler>=0.10 in /usr/local/Cellar/graph-tool/2.43/libexec/lib/python3.9/site-packages (from matplotlib) (0.10.0)\n",
      "Requirement already satisfied: kiwisolver>=1.0.1 in /usr/local/Cellar/graph-tool/2.43/libexec/lib/python3.9/site-packages (from matplotlib) (1.3.1)\n",
      "Requirement already satisfied: pillow>=6.2.0 in /usr/local/lib/python3.9/site-packages (from matplotlib) (8.0.1)\n",
      "Requirement already satisfied: pyparsing>=2.2.1 in /usr/local/Cellar/graph-tool/2.43/libexec/lib/python3.9/site-packages (from matplotlib) (2.4.7)\n",
      "Requirement already satisfied: python-dateutil>=2.7 in /usr/local/Cellar/graph-tool/2.43/libexec/lib/python3.9/site-packages (from matplotlib) (2.8.1)\n",
      "Requirement already satisfied: six>=1.5.0 in /usr/local/Cellar/six/1.16.0_2/lib/python3.9/site-packages (from gensim) (1.16.0)\n",
      "Requirement already satisfied: smart-open>=1.8.1 in /usr/local/lib/python3.9/site-packages (from gensim) (3.0.0)\n",
      "Requirement already satisfied: toolz>=0.8.2 in /usr/local/lib/python3.9/site-packages (from dask[dataframe]>=2.9.0->tsfresh) (0.11.2)\n",
      "Requirement already satisfied: cloudpickle>=1.1.1 in /usr/local/lib/python3.9/site-packages (from dask[dataframe]>=2.9.0->tsfresh) (2.0.0)\n",
      "Requirement already satisfied: partd>=0.3.10 in /usr/local/lib/python3.9/site-packages (from dask[dataframe]>=2.9.0->tsfresh) (1.2.0)\n",
      "Requirement already satisfied: fsspec>=0.6.0 in /usr/local/lib/python3.9/site-packages (from dask[dataframe]>=2.9.0->tsfresh) (2021.11.1)\n",
      "Requirement already satisfied: pyyaml in /usr/local/lib/python3.9/site-packages (from dask[dataframe]>=2.9.0->tsfresh) (5.3.1)\n",
      "Requirement already satisfied: packaging>=20.0 in /usr/local/lib/python3.9/site-packages (from dask[dataframe]>=2.9.0->tsfresh) (20.4)\n",
      "Requirement already satisfied: tblib>=1.6.0 in /usr/local/lib/python3.9/site-packages (from distributed>=2.11.0->tsfresh) (1.7.0)\n",
      "Requirement already satisfied: setuptools in /usr/local/lib/python3.9/site-packages (from distributed>=2.11.0->tsfresh) (58.5.3)\n",
      "Requirement already satisfied: jinja2 in /usr/local/lib/python3.9/site-packages (from distributed>=2.11.0->tsfresh) (2.11.2)\n",
      "Requirement already satisfied: zict>=0.1.3 in /usr/local/lib/python3.9/site-packages (from distributed>=2.11.0->tsfresh) (2.0.0)\n",
      "Requirement already satisfied: sortedcontainers!=2.0.0,!=2.0.1 in /usr/local/lib/python3.9/site-packages (from distributed>=2.11.0->tsfresh) (2.4.0)\n",
      "Requirement already satisfied: tornado>=6.0.3 in /usr/local/lib/python3.9/site-packages (from distributed>=2.11.0->tsfresh) (6.0.4)\n",
      "Requirement already satisfied: psutil>=5.0 in /usr/local/lib/python3.9/site-packages (from distributed>=2.11.0->tsfresh) (5.8.0)\n",
      "Requirement already satisfied: click>=6.6 in /usr/local/lib/python3.9/site-packages (from distributed>=2.11.0->tsfresh) (7.1.2)\n",
      "Requirement already satisfied: msgpack>=0.6.0 in /usr/local/lib/python3.9/site-packages (from distributed>=2.11.0->tsfresh) (1.0.3)\n",
      "Requirement already satisfied: protobuf==3.11.2 in /usr/local/lib/python3.9/site-packages (from matrixprofile>=1.1.10<2.0.0->tsfresh) (3.11.2)\n",
      "Requirement already satisfied: pytz>=2017.3 in /usr/local/Cellar/graph-tool/2.43/libexec/lib/python3.9/site-packages (from pandas>=0.25.0->tsfresh) (2021.1)\n",
      "Requirement already satisfied: urllib3<1.27,>=1.21.1 in /usr/local/lib/python3.9/site-packages (from requests>=2.9.1->tsfresh) (1.26.2)\n",
      "Requirement already satisfied: chardet<4,>=3.0.2 in /usr/local/lib/python3.9/site-packages (from requests>=2.9.1->tsfresh) (3.0.4)\n",
      "Requirement already satisfied: certifi>=2017.4.17 in /usr/local/lib/python3.9/site-packages (from requests>=2.9.1->tsfresh) (2020.11.8)\n",
      "Requirement already satisfied: idna<3,>=2.5 in /usr/local/lib/python3.9/site-packages (from requests>=2.9.1->tsfresh) (2.10)\n",
      "Requirement already satisfied: joblib>=0.11 in /usr/local/lib/python3.9/site-packages (from scikit-learn>=0.22.0->tsfresh) (1.0.1)\n",
      "Requirement already satisfied: threadpoolctl>=2.0.0 in /usr/local/lib/python3.9/site-packages (from scikit-learn>=0.22.0->tsfresh) (2.1.0)\n",
      "Requirement already satisfied: numba>=0.48 in /usr/local/lib/python3.9/site-packages (from stumpy>=1.7.2->tsfresh) (0.53.1)\n",
      "Requirement already satisfied: llvmlite<0.37,>=0.36.0rc1 in /usr/local/lib/python3.9/site-packages (from numba>=0.48->stumpy>=1.7.2->tsfresh) (0.36.0)\n",
      "Requirement already satisfied: locket in /usr/local/lib/python3.9/site-packages (from partd>=0.3.10->dask[dataframe]>=2.9.0->tsfresh) (0.2.1)\n",
      "Requirement already satisfied: heapdict in /usr/local/lib/python3.9/site-packages (from zict>=0.1.3->distributed>=2.11.0->tsfresh) (1.0.1)\n",
      "Requirement already satisfied: MarkupSafe>=0.23 in /usr/local/lib/python3.9/site-packages (from jinja2->distributed>=2.11.0->tsfresh) (1.1.1)\n"
     ]
    }
   ],
   "source": [
    "import sys\n",
    "!{sys.executable} -m pip install numpy scipy tsfresh matplotlib gensim "
   ]
  },
  {
   "cell_type": "code",
   "execution_count": 3,
   "metadata": {
    "ExecuteTime": {
     "end_time": "2021-11-27T14:24:51.701306Z",
     "start_time": "2021-11-27T14:24:48.577032Z"
    }
   },
   "outputs": [],
   "source": [
    "import pandas as pd\n",
    "import numpy as np\n",
    "import matplotlib.pyplot as plt\n",
    "from gensim.models import Word2Vec"
   ]
  },
  {
   "cell_type": "markdown",
   "metadata": {},
   "source": [
    "# Prediction of disease type from topological features of time series\n",
    "(Submission: G. Petri, A. Leitao)"
   ]
  },
  {
   "cell_type": "markdown",
   "metadata": {},
   "source": [
    "## Introduction \n",
    "\n",
    "Diseases and their spreading patterns have been studied object of attention for a long time, both from the biological and epidemiological perspective. \n",
    "\n",
    "Being able to characterize both aspects is crucial for a timely response to outbreaks at the individual and population level.  This is of even greater importance for emerging epidemics, of which COVID-19 is just the most tragic and recent example. \n",
    "\n",
    "Unfortunately, it can take a long time before researchers are able to pinpoint the spreading mechanisms for a specific novel pathogen. However, what if we could use the epidemic curve of a novel pathogen to predict what is the known disease that it resembles the most? \n",
    "In this case, we would be able to leverage interventions that have been developed for the latter disease to try and mitigate the former. \n",
    "\n",
    "In order to this, we first need to learn whether we can learn what known diseases look like in terms of their epidemic curves. The aim of this notebook is to show that --employing topological features obtained from time series-- it is possible to accurately predict the disease from a set of epidemic curves. \n",
    "\n",
    "In particular, we build on recent work on the [structure of predictability of epidemic outbreaks](https://www.nature.com/articles/s41467-019-08616-0) and construct embeddings that use both the temporal and ordinal properties of the data. "
   ]
  },
  {
   "cell_type": "markdown",
   "metadata": {},
   "source": [
    "## Dataset \n",
    "The data (included with the notebook) is a selection (N=454) of the US epidemic timeseries used in [Scarpino&Petri](https://www.nature.com/articles/s41467-019-08616-0), spanning in some cases more than 20 years. \n",
    "The time resolution is weekly. \n",
    "We note that the timeseries are of different lengths, start and end at different instants in time, and at times contain intervals of missing values. \n",
    "We deliberately leave also the noisy and faulty timeseries within the dataset in order to highlight the (honestly surprising) robustness of the results. "
   ]
  },
  {
   "cell_type": "code",
   "execution_count": 4,
   "metadata": {
    "ExecuteTime": {
     "end_time": "2021-11-27T14:24:52.633636Z",
     "start_time": "2021-11-27T14:24:51.704117Z"
    }
   },
   "outputs": [],
   "source": [
    "import glob\n",
    "fs = glob.glob('./limits/*.csv');\n",
    "\n",
    "X_ts, y_labels = [], []\n",
    "for f in fs[:460]:\n",
    "    data = pd.read_csv(f);\n",
    "    X_ts.append(data.fillna(0).x);\n",
    "    y_labels.append(f.split('/')[-1].split('-')[0])"
   ]
  },
  {
   "cell_type": "markdown",
   "metadata": {},
   "source": [
    "We show below a random selection of epidemic curves from the dataset:"
   ]
  },
  {
   "cell_type": "code",
   "execution_count": 5,
   "metadata": {
    "ExecuteTime": {
     "end_time": "2021-11-27T14:24:53.811411Z",
     "start_time": "2021-11-27T14:24:52.635862Z"
    }
   },
   "outputs": [
    {
     "data": {
      "image/png": "[encoded data removed]",
      "text/plain": [
       "<Figure size 1152x432 with 8 Axes>"
      ]
     },
     "metadata": {
      "needs_background": "light"
     },
     "output_type": "display_data"
    }
   ],
   "source": [
    "iss = np.random.randint(0,455, 8)\n",
    "fig = plt.figure(figsize=(16,6))\n",
    "count=1\n",
    "for i in iss:\n",
    "    plt.subplot(2,4, count)\n",
    "    X_ts[i].plot()\n",
    "    plt.title(y_labels[i])\n",
    "    count+=1\n",
    "plt.tight_layout()    "
   ]
  },
  {
   "cell_type": "markdown",
   "metadata": {
    "ExecuteTime": {
     "end_time": "2020-11-15T21:59:23.040499Z",
     "start_time": "2020-11-15T21:59:23.036525Z"
    }
   },
   "source": [
    "The selection of timeseries also provides a rather balanced class assignment. "
   ]
  },
  {
   "cell_type": "code",
   "execution_count": 6,
   "metadata": {
    "ExecuteTime": {
     "end_time": "2021-11-27T14:24:53.866954Z",
     "start_time": "2021-11-27T14:24:53.813701Z"
    }
   },
   "outputs": [
    {
     "name": "stdout",
     "output_type": "stream",
     "text": [
      "Counter({'Influenza': 61, 'Chlamydia': 60, 'Hepatitis A': 60, 'Gonorrhea': 59, 'Mumps': 59, 'Whooping Cough': 58, 'Polio': 52, 'Measles': 51})\n"
     ]
    }
   ],
   "source": [
    "from collections import Counter\n",
    "print(Counter(y_labels))"
   ]
  },
  {
   "cell_type": "markdown",
   "metadata": {},
   "source": [
    "## Pipeline\n",
    "\n",
    "The analysis is as follows:\n",
    "1. we import the timeseries and transform them into their symbolic version (a la permutation entropy)\n",
    "2. from the symbolized timeseries, we create embeddings using Word2Vec;\n",
    "3. we then compute VR persistent homology on the resulting embeddings and extract simple features from the persistence diagrams (amplitude, persistence entropy, Betti numbers);\n",
    "4. We then feed these features to a classifier to learn disease types.\n",
    "5. In parallel, we also repeat the same analysis on the Takens embeddings extracted from the epidemic timeseries.\n",
    "6. Finally, we join the two sets of features, coming from symbolic and Takens embeddings, and show that their combination is able to outperform a classifier based on standard timeseries features. \n",
    "    \n"
   ]
  },
  {
   "cell_type": "markdown",
   "metadata": {},
   "source": [
    "\n",
    "# Epidemic timeseries and their symbolization"
   ]
  },
  {
   "cell_type": "code",
   "execution_count": 8,
   "metadata": {
    "ExecuteTime": {
     "end_time": "2021-11-27T14:35:23.635438Z",
     "start_time": "2021-11-27T14:27:42.755260Z"
    }
   },
   "outputs": [
    {
     "name": "stderr",
     "output_type": "stream",
     "text": [
      "100%|██████████| 460/460 [07:40<00:00,  1.00s/it]\n"
     ]
    }
   ],
   "source": [
    "from numpy.random import randn, randint\n",
    "from tqdm import tqdm\n",
    "def noisy_symbolic_sequence(time_series, m, delay,noise_amp=0.3):\n",
    "    import itertools\n",
    "    import numpy as np\n",
    "    n = len(time_series)\n",
    "    permutations = np.array(list(itertools.permutations(range(m))))\n",
    "    c = [0] * len(permutations)\n",
    "    new_sequence = []\n",
    "    for i in range(n - delay * (m - 1)):\n",
    "        sorted_index_array = ''.join(map(str,np.argsort(time_series[i:i + delay * m:delay] + noise_amp*randn(len(time_series[i:i + delay * m:delay])),\n",
    "                                                 kind='quicksort')))\n",
    "        new_sequence.append(sorted_index_array);\n",
    "    return new_sequence;\n",
    "\n",
    "text = []\n",
    "for x in tqdm(X_ts):\n",
    "    text.append(noisy_symbolic_sequence(x, 5, 1, noise_amp=0.01))"
   ]
  },
  {
   "cell_type": "code",
   "execution_count": 10,
   "metadata": {
    "ExecuteTime": {
     "end_time": "2021-11-27T14:47:04.122283Z",
     "start_time": "2021-11-27T14:47:03.848937Z"
    }
   },
   "outputs": [],
   "source": [
    "# import pickle as pk\n",
    "# pk.dump(text, open('symbolized-text.pck', 'wb'))"
   ]
  },
  {
   "cell_type": "markdown",
   "metadata": {
    "ExecuteTime": {
     "end_time": "2020-11-15T21:22:47.522657Z",
     "start_time": "2020-11-15T21:22:46.685756Z"
    }
   },
   "source": [
    "We associate to each timeseries a symbolic timeseries built from the ordinal patterns in short strings of values. \n",
    "This is the same procedure that is performed before computing permutation entropy, details can be found in the paper linked in the introduction. \n",
    "\n",
    "The function above to extract the symbolic timeseries includes a source of noise, which is used to remove draws in the construction of the ordinal patterns. It also simulates the noise that is likely present in disease incidence measurements. Similarly to Scarpino&Petri, we set the delay time to 1 to have temporally continuous windows, and  the embedding dimension to 5 (which is the typical value observed in previous studies for weekly timeseries).  "
   ]
  },
  {
   "cell_type": "markdown",
   "metadata": {},
   "source": [
    "## Construction of Word2vec embeddings for symbolized timeseries "
   ]
  },
  {
   "cell_type": "code",
   "execution_count": 9,
   "metadata": {
    "ExecuteTime": {
     "end_time": "2021-11-27T14:46:35.988978Z",
     "start_time": "2021-11-27T14:46:22.702893Z"
    }
   },
   "outputs": [],
   "source": [
    "# node2vec parameters\n",
    "param_p = 1.0\n",
    "param_q = 1.0\n",
    "param_dimensions = 10\n",
    "param_window = 4\n",
    "param_num_workers = 8\n",
    "param_iter = 1\n",
    "\n",
    "# compute \"word\" embeddings\n",
    "Xs = []\n",
    "for tt in text:\n",
    "    model = Word2Vec(sentences=[tt],\n",
    "                 size=param_dimensions,\n",
    "                 window=param_window,\n",
    "                 min_count=0,\n",
    "                 sg=1,\n",
    "                 negative=5,\n",
    "                 iter=param_iter,\n",
    "                 workers=param_num_workers);\n",
    "    Xs.append(model.wv.vectors);"
   ]
  },
  {
   "cell_type": "markdown",
   "metadata": {},
   "source": [
    "### Computation of VR persistence on symbolic embeddings\n",
    "For illustration purposes we separate the computation of homology and diagrams for the two studied dimensions [0,1]\n"
   ]
  },
  {
   "cell_type": "code",
   "execution_count": 11,
   "metadata": {
    "ExecuteTime": {
     "end_time": "2021-11-27T14:47:12.280173Z",
     "start_time": "2021-11-27T14:47:12.241605Z"
    }
   },
   "outputs": [],
   "source": [
    "symbolic_diags = {}\n",
    "amps_dict, ents_dict, betti_dict = {}, {}, {}"
   ]
  },
  {
   "cell_type": "code",
   "execution_count": 15,
   "metadata": {
    "ExecuteTime": {
     "end_time": "2021-11-27T14:48:02.291960Z",
     "start_time": "2021-11-27T14:48:02.246324Z"
    }
   },
   "outputs": [],
   "source": [
    "# !pip install giotto-tda"
   ]
  },
  {
   "cell_type": "code",
   "execution_count": 16,
   "metadata": {
    "ExecuteTime": {
     "end_time": "2021-11-27T14:49:14.357452Z",
     "start_time": "2021-11-27T14:48:03.641530Z"
    }
   },
   "outputs": [],
   "source": [
    "from gtda.diagrams import Amplitude, PersistenceEntropy, NumberOfPoints\n",
    "from gtda.homology import VietorisRipsPersistence\n",
    "\n",
    "dim = 0\n",
    "VR = VietorisRipsPersistence(metric='correlation', homology_dimensions=[dim])\n",
    "VR.fit(Xs)\n",
    "symbolic_diags[dim] = VR.transform(Xs)\n",
    "amps_dict[dim] = Amplitude(metric='heat', metric_params={'sigma': 0.05}).fit_transform(symbolic_diags[dim])\n",
    "ents_dict[dim] = PersistenceEntropy(normalize=True).fit_transform(symbolic_diags[dim])\n",
    "betti_dict[dim] = NumberOfPoints().fit_transform(symbolic_diags[dim])\n",
    "\n",
    "dim = 1\n",
    "VR = VietorisRipsPersistence(metric='correlation', homology_dimensions=[dim])\n",
    "VR.fit(Xs)\n",
    "symbolic_diags[dim] = VR.transform(Xs)\n",
    "amps_dict[dim] = Amplitude(metric='heat', metric_params={'sigma': 0.05}).fit_transform(symbolic_diags[dim])\n",
    "ents_dict[dim] = PersistenceEntropy(normalize=True).fit_transform(symbolic_diags[dim])\n",
    "betti_dict[dim] = NumberOfPoints().fit_transform(symbolic_diags[dim])\n"
   ]
  },
  {
   "cell_type": "markdown",
   "metadata": {},
   "source": [
    "### Joining together topological features of different dimensions from symbolic embeddings"
   ]
  },
  {
   "cell_type": "code",
   "execution_count": 17,
   "metadata": {
    "ExecuteTime": {
     "end_time": "2021-11-27T14:49:14.409571Z",
     "start_time": "2021-11-27T14:49:14.359448Z"
    }
   },
   "outputs": [],
   "source": [
    "X_features = np.array(list(zip([x[0] for x in amps_dict[0]], [x[0] for x in ents_dict[0]], \n",
    "                               [x[0] for x in amps_dict[1]], [x[0] for x in ents_dict[1]],\n",
    "                               [x[0] for x in betti_dict[1]])))\n"
   ]
  },
  {
   "cell_type": "markdown",
   "metadata": {},
   "source": [
    "### prediction of disease type using only features from symbolic embeddings"
   ]
  },
  {
   "cell_type": "code",
   "execution_count": 18,
   "metadata": {
    "ExecuteTime": {
     "end_time": "2021-11-27T14:49:14.603537Z",
     "start_time": "2021-11-27T14:49:14.412802Z"
    }
   },
   "outputs": [
    {
     "name": "stdout",
     "output_type": "stream",
     "text": [
      "GNB 0.7260869565217393 0.0187007071022666\n",
      "Random Forest Classifier 0.7565217391304347 0.02800891027548942\n"
     ]
    }
   ],
   "source": [
    "from time import time \n",
    "from sklearn.naive_bayes import GaussianNB\n",
    "from sklearn.ensemble import RandomForestClassifier\n",
    "from sklearn.model_selection import cross_val_score\n",
    "summary_dict = {}\n",
    "summary_dict['symbolic only'] = []\n",
    "\n",
    "X, y = X_features, y_labels\n",
    "\n",
    "gnb = GaussianNB()\n",
    "scores = cross_val_score(gnb, X, y, cv=5)\n",
    "print('GNB', scores.mean(), scores.std())\n",
    "summary_dict['symbolic only'].append(scores.mean())\n",
    "\n",
    "\n",
    "clf = RandomForestClassifier(n_estimators=10, max_depth=None, min_samples_split=2, random_state=int(time()))\n",
    "scores = cross_val_score(clf, X, y, cv=5)\n",
    "print('Random Forest Classifier', scores.mean(), scores.std())\n",
    "summary_dict['symbolic only'].append(scores.mean())"
   ]
  },
  {
   "cell_type": "markdown",
   "metadata": {},
   "source": [
    "For the sake of illustration, we show here and in the following results for two different classifiers, one baised on Naive Bayes and the other a standard Random Forest classifier. \n"
   ]
  },
  {
   "cell_type": "markdown",
   "metadata": {},
   "source": [
    "## Computation of Takens embeddings for epidemic timeseries "
   ]
  },
  {
   "cell_type": "code",
   "execution_count": 19,
   "metadata": {
    "ExecuteTime": {
     "end_time": "2021-11-27T14:54:20.171006Z",
     "start_time": "2021-11-27T14:49:58.231834Z"
    }
   },
   "outputs": [],
   "source": [
    "import gtda.time_series as ts\n",
    "\n",
    "te_X, te_diags = [], []\n",
    "te_diags = {}\n",
    "te_amps_dict, te_ents_dict, te_betti_dict = {}, {}, {}\n",
    "for i, x in enumerate(X_ts): \n",
    "    te_diags[i] = {}\n",
    "    te_amps_dict[i], te_ents_dict[i], te_betti_dict[i] ={}, {}, {}\n",
    "    te_X.append(ts.SingleTakensEmbedding(parameters_type='fixed', time_delay=1, dimension=5, stride=5).fit_transform(x))\n",
    "    for dim in [0,1]:\n",
    "        teVR = VietorisRipsPersistence(metric='euclidean', homology_dimensions=[dim])\n",
    "        teVR.fit([te_X[-1]])\n",
    "        te_diags[i][dim] = teVR.transform([te_X[-1]]);\n",
    "        te_amps_dict[i][dim] = Amplitude(metric='heat', metric_params={'sigma': 0.05}).fit_transform(te_diags[i][dim])\n",
    "        te_ents_dict[i][dim] = PersistenceEntropy(normalize=True).fit_transform(te_diags[i][dim])\n",
    "        te_betti_dict[i][dim] = NumberOfPoints().fit_transform(te_diags[i][dim])"
   ]
  },
  {
   "cell_type": "markdown",
   "metadata": {},
   "source": [
    "We now reformat the features dictionaries to be amenable to Giotto. "
   ]
  },
  {
   "cell_type": "code",
   "execution_count": 20,
   "metadata": {
    "ExecuteTime": {
     "end_time": "2021-11-27T14:58:33.088626Z",
     "start_time": "2021-11-27T14:58:33.036126Z"
    }
   },
   "outputs": [],
   "source": [
    "te_features = []\n",
    "for i, x in enumerate(X_ts):\n",
    "    feat = []\n",
    "    for dim in [0,1]:\n",
    "        feat.extend([te_amps_dict[i][dim][0][0], te_ents_dict[i][dim][0][0], te_betti_dict[i][dim][0][0]])\n",
    "    te_features.append(feat)\n",
    "\n",
    "teX = np.array(te_features)"
   ]
  },
  {
   "cell_type": "markdown",
   "metadata": {
    "ExecuteTime": {
     "end_time": "2020-11-15T22:07:58.290449Z",
     "start_time": "2020-11-15T22:07:58.288527Z"
    }
   },
   "source": [
    "### prediction of disease type using only features from Takens embeddings"
   ]
  },
  {
   "cell_type": "code",
   "execution_count": 21,
   "metadata": {
    "ExecuteTime": {
     "end_time": "2021-11-27T14:58:34.793579Z",
     "start_time": "2021-11-27T14:58:34.644779Z"
    }
   },
   "outputs": [
    {
     "name": "stdout",
     "output_type": "stream",
     "text": [
      "GNB 0.5152173913043478 0.05217391304347825\n",
      "Random Forest Classifier 0.6717391304347826 0.02516486283215268\n"
     ]
    }
   ],
   "source": [
    "X = teX\n",
    "gnb = GaussianNB()\n",
    "scores = cross_val_score(gnb, X, y, cv=5)\n",
    "print('GNB', scores.mean(), scores.std())\n",
    "summary_dict['Takens only'] = []\n",
    "summary_dict['Takens only'].append(scores.mean())\n",
    "\n",
    "clf = RandomForestClassifier(n_estimators=10, max_depth=None, min_samples_split=2, random_state=int(time()))\n",
    "scores = cross_val_score(clf, X, y, cv=5)\n",
    "print('Random Forest Classifier', scores.mean(), scores.std())\n",
    "\n",
    "summary_dict['Takens only'].append(scores.mean())"
   ]
  },
  {
   "cell_type": "markdown",
   "metadata": {},
   "source": [
    "### prediction of disease type using  features from symbolic and Takens embeddings"
   ]
  },
  {
   "cell_type": "code",
   "execution_count": 22,
   "metadata": {
    "ExecuteTime": {
     "end_time": "2021-11-27T14:58:37.348359Z",
     "start_time": "2021-11-27T14:58:37.310316Z"
    }
   },
   "outputs": [],
   "source": [
    "joinX = np.concatenate([X_features, teX], axis=1)"
   ]
  },
  {
   "cell_type": "code",
   "execution_count": 23,
   "metadata": {
    "ExecuteTime": {
     "end_time": "2021-11-27T14:58:39.013090Z",
     "start_time": "2021-11-27T14:58:38.863282Z"
    }
   },
   "outputs": [
    {
     "name": "stdout",
     "output_type": "stream",
     "text": [
      "GNB 0.7891304347826086 0.03268107908341936\n",
      "Random Forest Classifier 0.8521739130434783 0.024402113392003957\n"
     ]
    }
   ],
   "source": [
    "X = joinX\n",
    "gnb = GaussianNB()\n",
    "scores = cross_val_score(gnb, X, y, cv=5)\n",
    "print('GNB', scores.mean(), scores.std())\n",
    "summary_dict['Symbolic + Takens'] = []\n",
    "summary_dict['Symbolic + Takens'].append(scores.mean())\n",
    "\n",
    "clf = RandomForestClassifier(n_estimators=10, max_depth=None, min_samples_split=2, random_state=int(time()))\n",
    "scores = cross_val_score(clf, X, y, cv=5)\n",
    "print('Random Forest Classifier', scores.mean(), scores.std())\n",
    "summary_dict['Symbolic + Takens'].append(scores.mean())"
   ]
  },
  {
   "cell_type": "markdown",
   "metadata": {},
   "source": [
    "## Comparison with standard timeseries features"
   ]
  },
  {
   "cell_type": "markdown",
   "metadata": {},
   "source": [
    "We extract here a set of standard timeseries features. \n",
    "In particular, we choose standard ones that can be compared across timeseries of different lenght and composition. "
   ]
  },
  {
   "cell_type": "code",
   "execution_count": 24,
   "metadata": {
    "ExecuteTime": {
     "end_time": "2021-11-27T14:59:04.232800Z",
     "start_time": "2021-11-27T14:58:41.169230Z"
    }
   },
   "outputs": [
    {
     "name": "stderr",
     "output_type": "stream",
     "text": [
      "/usr/local/lib/python3.9/site-packages/numba/np/ufunc/parallel.py:365: NumbaWarning: The TBB threading layer requires TBB version 2019.5 or later i.e., TBB_INTERFACE_VERSION >= 11005. Found TBB_INTERFACE_VERSION = 11000. The TBB threading layer is disabled.\n",
      "  warnings.warn(problem)\n"
     ]
    }
   ],
   "source": [
    "from tsfresh.feature_extraction.feature_calculators import abs_energy, mean,  skewness, kurtosis, median\n",
    "from tsfresh.feature_extraction.feature_calculators import sample_entropy, variance, mean_abs_change, mean_second_derivative_central \n",
    "\n",
    "func_list = [abs_energy, mean, skewness, sample_entropy, variance, mean_abs_change, mean_second_derivative_central, kurtosis, median]"
   ]
  },
  {
   "cell_type": "code",
   "execution_count": 25,
   "metadata": {
    "ExecuteTime": {
     "end_time": "2021-11-27T15:06:24.453654Z",
     "start_time": "2021-11-27T14:59:04.235311Z"
    }
   },
   "outputs": [],
   "source": [
    "features_X_ts = []\n",
    "\n",
    "for i, x in enumerate(X_ts):\n",
    "    feat = [func(x) for func in func_list]\n",
    "    features_X_ts.append(feat)"
   ]
  },
  {
   "cell_type": "code",
   "execution_count": 26,
   "metadata": {
    "ExecuteTime": {
     "end_time": "2021-11-27T15:06:24.609049Z",
     "start_time": "2021-11-27T15:06:24.455953Z"
    }
   },
   "outputs": [
    {
     "name": "stdout",
     "output_type": "stream",
     "text": [
      "GNB 0.21739130434782608 0.029965323374109183\n",
      "Random Forest Classifier 0.6956521739130435 0.04507922033332115\n"
     ]
    }
   ],
   "source": [
    "X = np.array(features_X_ts)\n",
    "gnb = GaussianNB()\n",
    "scores = cross_val_score(gnb, X, y, cv=5)\n",
    "print('GNB', scores.mean(), scores.std())\n",
    "summary_dict['Standard feats'] = []\n",
    "summary_dict['Standard feats'].append(scores.mean())\n",
    "clf = RandomForestClassifier(n_estimators=10, max_depth=None, min_samples_split=2, random_state=int(time()))\n",
    "scores = cross_val_score(clf, X, y, cv=5)\n",
    "print('Random Forest Classifier', scores.mean(), scores.std())\n",
    "summary_dict['Standard feats'].append(scores.mean())"
   ]
  },
  {
   "cell_type": "markdown",
   "metadata": {
    "ExecuteTime": {
     "end_time": "2020-11-15T22:09:53.456616Z",
     "start_time": "2020-11-15T22:09:53.454327Z"
    }
   },
   "source": [
    "### prediction of disease type using all features (symbolic, Takens, standards)"
   ]
  },
  {
   "cell_type": "code",
   "execution_count": 27,
   "metadata": {
    "ExecuteTime": {
     "end_time": "2021-11-27T15:06:24.756729Z",
     "start_time": "2021-11-27T15:06:24.611502Z"
    }
   },
   "outputs": [
    {
     "name": "stdout",
     "output_type": "stream",
     "text": [
      "GNB 0.21739130434782608 0.029965323374109183\n",
      "0.8934782608695653 0.023211039678328917\n"
     ]
    }
   ],
   "source": [
    "megajoinX = np.concatenate([X_features, teX, np.array(features_X_ts)], axis=1)\n",
    "\n",
    "X = megajoinX \n",
    "gnb = GaussianNB()\n",
    "scores = cross_val_score(gnb, X, y, cv=5)\n",
    "print('GNB', scores.mean(), scores.std())\n",
    "summary_dict['All feats'] = []\n",
    "summary_dict['All feats'].append(scores.mean())\n",
    "\n",
    "clf = RandomForestClassifier(n_estimators=10, max_depth=None, min_samples_split=2, random_state=int(time()))\n",
    "scores = cross_val_score(clf, X, y, cv=5)\n",
    "print(scores.mean(), scores.std())\n",
    "summary_dict['All feats'].append(scores.mean())"
   ]
  },
  {
   "cell_type": "markdown",
   "metadata": {
    "ExecuteTime": {
     "end_time": "2020-11-15T22:11:29.857228Z",
     "start_time": "2020-11-15T22:11:29.854738Z"
    }
   },
   "source": [
    "## Summary of results\n",
    "We find that both classifiers already achieve a large accuracy using only symbolic features (with respect to the random baseline \\~12%), and naturally the union with the Takens ones allowed both classifiers to increase the accuracy. \n",
    "We find that symbolic features alone are sufficient to outperform the standard ones, while using all the features together allows to reach very high (\\~87%) accuracies. "
   ]
  },
  {
   "cell_type": "code",
   "execution_count": 28,
   "metadata": {
    "ExecuteTime": {
     "end_time": "2021-11-27T15:06:24.811897Z",
     "start_time": "2021-11-27T15:06:24.758468Z"
    }
   },
   "outputs": [
    {
     "data": {
      "text/html": [
       "<div>\n",
       "<style scoped>\n",
       "    .dataframe tbody tr th:only-of-type {\n",
       "        vertical-align: middle;\n",
       "    }\n",
       "\n",
       "    .dataframe tbody tr th {\n",
       "        vertical-align: top;\n",
       "    }\n",
       "\n",
       "    .dataframe thead th {\n",
       "        text-align: right;\n",
       "    }\n",
       "</style>\n",
       "<table border=\"1\" class=\"dataframe\">\n",
       "  <thead>\n",
       "    <tr style=\"text-align: right;\">\n",
       "      <th></th>\n",
       "      <th>symbolic only</th>\n",
       "      <th>Takens only</th>\n",
       "      <th>Symbolic + Takens</th>\n",
       "      <th>Standard feats</th>\n",
       "      <th>All feats</th>\n",
       "    </tr>\n",
       "  </thead>\n",
       "  <tbody>\n",
       "    <tr>\n",
       "      <th>0</th>\n",
       "      <td>0.726087</td>\n",
       "      <td>0.515217</td>\n",
       "      <td>0.789130</td>\n",
       "      <td>0.217391</td>\n",
       "      <td>0.217391</td>\n",
       "    </tr>\n",
       "    <tr>\n",
       "      <th>1</th>\n",
       "      <td>0.756522</td>\n",
       "      <td>0.671739</td>\n",
       "      <td>0.852174</td>\n",
       "      <td>0.695652</td>\n",
       "      <td>0.893478</td>\n",
       "    </tr>\n",
       "  </tbody>\n",
       "</table>\n",
       "</div>"
      ],
      "text/plain": [
       "   symbolic only  Takens only  Symbolic + Takens  Standard feats  All feats\n",
       "0       0.726087     0.515217           0.789130        0.217391   0.217391\n",
       "1       0.756522     0.671739           0.852174        0.695652   0.893478"
      ]
     },
     "execution_count": 28,
     "metadata": {},
     "output_type": "execute_result"
    }
   ],
   "source": [
    "pd.DataFrame(summary_dict)"
   ]
  },
  {
   "cell_type": "markdown",
   "metadata": {},
   "source": [
    "Of course it is possible to analyse which disease is better described, and we find that the airbone pathogens (and Chlamydia)\n",
    "seem to be the most identifiable ones. "
   ]
  },
  {
   "cell_type": "code",
   "execution_count": 29,
   "metadata": {
    "ExecuteTime": {
     "end_time": "2021-11-27T15:06:24.875467Z",
     "start_time": "2021-11-27T15:06:24.813647Z"
    }
   },
   "outputs": [],
   "source": [
    "clf.fit(X,y)\n",
    "probs = pd.DataFrame(clf.predict_proba(X), columns = clf.classes_)\n",
    "probs['real_label'] = y"
   ]
  },
  {
   "cell_type": "code",
   "execution_count": 30,
   "metadata": {
    "ExecuteTime": {
     "end_time": "2021-11-27T15:06:26.079153Z",
     "start_time": "2021-11-27T15:06:24.876686Z"
    },
    "scrolled": false
   },
   "outputs": [
    {
     "data": {
      "image/png": "[encoded data removed]",
      "text/plain": [
       "<Figure size 1152x432 with 8 Axes>"
      ]
     },
     "metadata": {
      "needs_background": "light"
     },
     "output_type": "display_data"
    }
   ],
   "source": [
    "from scipy.stats import entropy\n",
    "count = 1\n",
    "fig = plt.figure(figsize=(16,6))\n",
    "for disease, group in probs.groupby('real_label'):\n",
    "    plt.subplot(2,4, count)\n",
    "    xbase = range(len(clf.classes_))\n",
    "    plt.errorbar(xbase, np.mean(group[clf.classes_]), np.std(group[clf.classes_]));\n",
    "    plt.xticks(xbase, clf.classes_, rotation = 30);\n",
    "    ent = np.round(entropy(np.mean(group[clf.classes_])), 2)\n",
    "    plt.title(disease + ', entropy = '+ str(ent))\n",
    "    count+=1\n",
    "plt.tight_layout()"
   ]
  },
  {
   "cell_type": "code",
   "execution_count": 44,
   "metadata": {
    "ExecuteTime": {
     "end_time": "2021-11-27T15:17:06.192718Z",
     "start_time": "2021-11-27T15:17:06.143925Z"
    }
   },
   "outputs": [
    {
     "data": {
      "text/plain": [
       "Chlamydia         0.000000\n",
       "Gonorrhea         0.000000\n",
       "Hepatitis A       0.000000\n",
       "Influenza         0.005172\n",
       "Measles           0.012069\n",
       "Mumps             0.000000\n",
       "Polio             0.000000\n",
       "Whooping Cough    0.982759\n",
       "dtype: float64"
      ]
     },
     "execution_count": 44,
     "metadata": {},
     "output_type": "execute_result"
    }
   ],
   "source": [
    "np.mean(group[clf.classes_])"
   ]
  },
  {
   "cell_type": "markdown",
   "metadata": {},
   "source": [
    "# And one last thing.. what does Covid-19 look like so far?\n",
    "We reproduced the previous pipeline on data obtained from https://github.com/owid/covid-19-data and tried what our classifier based on symbolic information only thought about the current COVID timeseries in EU. \n",
    "In the interest of time, we preprocessed the timeseries as described above and provide the symbolic embeddings below. "
   ]
  },
  {
   "cell_type": "code",
   "execution_count": 31,
   "metadata": {
    "ExecuteTime": {
     "end_time": "2021-11-27T15:06:26.146267Z",
     "start_time": "2021-11-27T15:06:26.083759Z"
    }
   },
   "outputs": [],
   "source": [
    "import pickle as pk\n",
    "covid_Xs = pk.load(open('covid-symbolic-embeddings.pck', 'rb'))"
   ]
  },
  {
   "cell_type": "code",
   "execution_count": 32,
   "metadata": {
    "ExecuteTime": {
     "end_time": "2021-11-27T15:06:26.199922Z",
     "start_time": "2021-11-27T15:06:26.148214Z"
    }
   },
   "outputs": [],
   "source": [
    "csymbolic_diags = {}\n",
    "camps_dict, cents_dict, cbetti_dict = {}, {}, {}"
   ]
  },
  {
   "cell_type": "code",
   "execution_count": 33,
   "metadata": {
    "ExecuteTime": {
     "end_time": "2021-11-27T15:06:42.166197Z",
     "start_time": "2021-11-27T15:06:26.201650Z"
    }
   },
   "outputs": [],
   "source": [
    "from gtda.diagrams import Amplitude, PersistenceEntropy, NumberOfPoints\n",
    "from gtda.homology import VietorisRipsPersistence\n",
    "\n",
    "dim = 0\n",
    "VR = VietorisRipsPersistence(metric='correlation', homology_dimensions=[dim])\n",
    "VR.fit(list(covid_Xs.values()))\n",
    "csymbolic_diags[dim] = VR.transform(list(covid_Xs.values()))\n",
    "\n",
    "camps_dict[dim] = Amplitude(metric='heat', metric_params={'sigma': 0.05}).fit_transform(csymbolic_diags[dim])\n",
    "cents_dict[dim] = PersistenceEntropy(normalize=True).fit_transform(csymbolic_diags[dim])\n",
    "cbetti_dict[dim] = NumberOfPoints().fit_transform(csymbolic_diags[dim])\n",
    "\n",
    "dim = 1\n",
    "VR = VietorisRipsPersistence(metric='correlation', homology_dimensions=[dim])\n",
    "VR.fit(list(covid_Xs.values()))\n",
    "csymbolic_diags[dim] = VR.transform(list(covid_Xs.values()))\n",
    "camps_dict[dim] = Amplitude(metric='heat', metric_params={'sigma': 0.05}).fit_transform(csymbolic_diags[dim])\n",
    "cents_dict[dim] = PersistenceEntropy(normalize=True).fit_transform(csymbolic_diags[dim])\n",
    "cbetti_dict[dim] = NumberOfPoints().fit_transform(csymbolic_diags[dim])\n"
   ]
  },
  {
   "cell_type": "code",
   "execution_count": 34,
   "metadata": {
    "ExecuteTime": {
     "end_time": "2021-11-27T15:06:42.217720Z",
     "start_time": "2021-11-27T15:06:42.167605Z"
    }
   },
   "outputs": [],
   "source": [
    "cX_features = np.array(list(zip([x[0] for x in camps_dict[0]], [x[0] for x in cents_dict[0]], \n",
    "                               [x[0] for x in camps_dict[1]], [x[0] for x in cents_dict[1]],\n",
    "                               [x[0] for x in cbetti_dict[1]])))"
   ]
  },
  {
   "cell_type": "code",
   "execution_count": 35,
   "metadata": {
    "ExecuteTime": {
     "end_time": "2021-11-27T15:06:42.275633Z",
     "start_time": "2021-11-27T15:06:42.219415Z"
    }
   },
   "outputs": [
    {
     "data": {
      "text/plain": [
       "Counter({'Measles': 31, 'Influenza': 16, 'Chlamydia': 2, 'Whooping Cough': 1})"
      ]
     },
     "execution_count": 35,
     "metadata": {},
     "output_type": "execute_result"
    }
   ],
   "source": [
    "clf.fit(X_features, y)\n",
    "covid_predict = clf.predict(cX_features)\n",
    "Counter(covid_predict)"
   ]
  },
  {
   "cell_type": "code",
   "execution_count": 64,
   "metadata": {
    "ExecuteTime": {
     "end_time": "2021-11-27T15:20:39.950480Z",
     "start_time": "2021-11-27T15:20:39.793008Z"
    }
   },
   "outputs": [
    {
     "data": {
      "text/plain": [
       "(array([ 5.,  3.,  0.,  4.,  2.,  0.,  1.,  1.,  2., 32.]),\n",
       " array([0.38559322, 0.42858187, 0.47157053, 0.51455919, 0.55754784,\n",
       "        0.6005365 , 0.64352516, 0.68651381, 0.72950247, 0.77249113,\n",
       "        0.81547978]),\n",
       " <BarContainer object of 10 artists>)"
      ]
     },
     "execution_count": 64,
     "metadata": {},
     "output_type": "execute_result"
    },
    {
     "data": {
      "image/png": "[encoded data removed]",
      "text/plain": [
       "<Figure size 432x288 with 1 Axes>"
      ]
     },
     "metadata": {
      "needs_background": "light"
     },
     "output_type": "display_data"
    }
   ],
   "source": [
    "covid_probs = pd.DataFrame(clf.predict_proba(cX_features), columns = clf.classes_)\n",
    "plt.hist(entropy(covid_probs.T)/np.log(len(clf.classes_)))"
   ]
  },
  {
   "cell_type": "markdown",
   "metadata": {},
   "source": [
    "And from our work it seems Covid to behave in terms of epidemic curve features like a mixture of Polio and Influenza and measles. "
   ]
  },
  {
   "cell_type": "code",
   "execution_count": 73,
   "metadata": {
    "ExecuteTime": {
     "end_time": "2021-11-27T15:25:50.290078Z",
     "start_time": "2021-11-27T15:25:50.072244Z"
    }
   },
   "outputs": [
    {
     "data": {
      "text/plain": [
       "<AxesSubplot:>"
      ]
     },
     "execution_count": 73,
     "metadata": {},
     "output_type": "execute_result"
    },
    {
     "data": {
      "image/png": "[encoded data removed]",
      "text/plain": [
       "<Figure size 432x288 with 1 Axes>"
      ]
     },
     "metadata": {
      "needs_background": "light"
     },
     "output_type": "display_data"
    }
   ],
   "source": [
    "import seaborn as sns\n",
    "sns.boxplot(data=covid_probs, orient='h')"
   ]
  }
 ],
 "metadata": {
  "kernelspec": {
   "display_name": "Python 3",
   "language": "python",
   "name": "python3"
  },
  "language_info": {
   "codemirror_mode": {
    "name": "ipython",
    "version": 3
   },
   "file_extension": ".py",
   "mimetype": "text/x-python",
   "name": "python",
   "nbconvert_exporter": "python",
   "pygments_lexer": "ipython3",
   "version": "3.9.8"
  },
  "toc": {
   "base_numbering": 1,
   "nav_menu": {},
   "number_sections": true,
   "sideBar": true,
   "skip_h1_title": false,
   "title_cell": "Table of Contents",
   "title_sidebar": "Contents",
   "toc_cell": false,
   "toc_position": {},
   "toc_section_display": true,
   "toc_window_display": false
  }
 },
 "nbformat": 4,
 "nbformat_minor": 2
}
