{
 "cells": [
  {
   "cell_type": "code",
   "execution_count": null,
   "metadata": {},
   "outputs": [],
   "source": [
    "from ripser import ripser, plot_dgms\n",
    "import numpy as np \n",
    "from sklearn import datasets\n",
    "import matplotlib.pyplot as plt"
   ]
  },
  {
   "cell_type": "code",
   "execution_count": null,
   "metadata": {},
   "outputs": [],
   "source": [
    "data = datasets.make_circles(n_samples=100)[0] + 5 * datasets.make_circles(n_samples=100)[0]"
   ]
  },
  {
   "cell_type": "code",
   "execution_count": null,
   "metadata": {},
   "outputs": [],
   "source": [
    "dgms = ripser(data)['dgms']"
   ]
  },
  {
   "cell_type": "markdown",
   "metadata": {},
   "source": [
    "## Default args make it very easy. \n",
    "\n",
    "- Generate diagrams for $H_0$ and $H_1$\n",
    "- Plot both diagrams"
   ]
  },
  {
   "cell_type": "code",
   "execution_count": null,
   "metadata": {},
   "outputs": [],
   "source": [
    "dgms = ripser(data)['dgms']\n",
    "\n",
    "fig = plt.figure(figsize=(12,4))\n",
    "plt.subplot(121)\n",
    "plot_dgms(dgms)\n",
    "plt.subplot(122)\n",
    "plt.plot(data[:,0], data[:,1],'o')"
   ]
  },
  {
   "cell_type": "code",
   "execution_count": null,
   "metadata": {},
   "outputs": [],
   "source": [
    "# Plot each diagram by itself\n",
    "fig = plt.figure(figsize=(12,4))\n",
    "plt.subplot(121)\n",
    "plot_dgms(dgms, plot_only=[0])\n",
    "plt.subplot(122)\n",
    "plot_dgms(dgms, plot_only=[1])"
   ]
  },
  {
   "cell_type": "markdown",
   "metadata": {},
   "source": [
    "### Specify which homology classes to compute\n",
    "You can specify a larger by supplying the argument `maxdim=p`. It practice, anything above $H_1$ is very slow.\n",
    "\n",
    "### Specify maximum radius for Rips filtration\n",
    "Maximum radius of the VR complex by supplying the argument `thresh=r`. "
   ]
  },
  {
   "cell_type": "code",
   "execution_count": null,
   "metadata": {},
   "outputs": [],
   "source": [
    "dgms = ripser(data, maxdim=2, thresh=3)['dgms']\n",
    "\n",
    "fig = plt.figure(figsize=(12,4))\n",
    "plt.subplot(121)\n",
    "plot_dgms(dgms)\n",
    "plt.subplot(122)\n",
    "plot_dgms(dgms, lifetime=True)"
   ]
  },
  {
   "cell_type": "markdown",
   "metadata": {},
   "source": [
    "## Shapes examples"
   ]
  },
  {
   "cell_type": "markdown",
   "metadata": {},
   "source": [
    "### Circles "
   ]
  },
  {
   "cell_type": "code",
   "execution_count": null,
   "metadata": {},
   "outputs": [],
   "source": [
    "data_clean = datasets.make_circles()[0]\n",
    "data_noisy = datasets.make_circles(noise=0.1)[0]"
   ]
  },
  {
   "cell_type": "code",
   "execution_count": null,
   "metadata": {},
   "outputs": [],
   "source": [
    "plt.scatter(data_clean[:,0], data_clean[:,1], label=\"clean data\")\n",
    "plt.scatter(data_noisy[:,0], data_noisy[:,1], label=\"noisy data\")"
   ]
  },
  {
   "cell_type": "code",
   "execution_count": null,
   "metadata": {},
   "outputs": [],
   "source": [
    "dgm_clean = ripser(data_clean)['dgms'][1]\n",
    "dgm_noisy = ripser(data_noisy)['dgms'][1]\n",
    "plot_dgms([dgm_clean, dgm_noisy] , labels=['Clean $H_1$', 'Noisy $H_1$'])"
   ]
  },
  {
   "cell_type": "markdown",
   "metadata": {},
   "source": [
    "### Tori"
   ]
  },
  {
   "cell_type": "code",
   "execution_count": null,
   "metadata": {},
   "outputs": [],
   "source": [
    "import tadasets \n",
    "t = tadasets.torus(n=2000, c=10,a=2)\n",
    "dgms = ripser(t, maxdim=2, thresh=3)['dgms']\n",
    "\n",
    "fig = plt.figure(figsize=(12,4))\n",
    "plt.subplot(122)\n",
    "plot_dgms(dgms)\n",
    "ax = plt.subplot(121,projection='3d')\n",
    "tadasets.plot3d(t,ax = ax)\n"
   ]
  },
  {
   "cell_type": "code",
   "execution_count": null,
   "metadata": {},
   "outputs": [],
   "source": [
    "t = tadasets.torus(n=3000, c=10,a=6)\n",
    "dgms = ripser(t, maxdim=2, thresh=4)['dgms']\n",
    "\n",
    "fig = plt.figure(figsize=(12,4))\n",
    "plt.subplot(122)\n",
    "plot_dgms(dgms)\n",
    "ax = plt.subplot(121,projection='3d')\n",
    "tadasets.plot3d(t,ax = ax)\n",
    "\n",
    "\n",
    "#What happens with limited sampling? or limited distances? "
   ]
  },
  {
   "cell_type": "markdown",
   "metadata": {},
   "source": [
    "### Swiss roll"
   ]
  },
  {
   "cell_type": "code",
   "execution_count": null,
   "metadata": {},
   "outputs": [],
   "source": [
    "import tadasets \n",
    "t = tadasets.swiss_roll(n=2000)\n",
    "dgms = ripser(t, maxdim=2,thresh=3)['dgms']\n",
    "fig = plt.figure(figsize=(12,4))\n",
    "plt.subplot(122)\n",
    "plot_dgms(dgms)\n",
    "ax = plt.subplot(121,projection='3d')\n",
    "tadasets.plot3d(t,ax = ax)\n",
    "\n"
   ]
  }
 ],
 "metadata": {
  "kernelspec": {
   "display_name": "Python 3",
   "language": "python",
   "name": "python3"
  },
  "language_info": {
   "codemirror_mode": {
    "name": "ipython",
    "version": 3
   },
   "file_extension": ".py",
   "mimetype": "text/x-python",
   "name": "python",
   "nbconvert_exporter": "python",
   "pygments_lexer": "ipython3",
   "version": "3.6.6"
  }
 },
 "nbformat": 4,
 "nbformat_minor": 2
}
