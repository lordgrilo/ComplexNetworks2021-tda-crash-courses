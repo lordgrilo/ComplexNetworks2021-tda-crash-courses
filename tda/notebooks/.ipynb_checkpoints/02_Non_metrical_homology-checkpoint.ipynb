{
 "cells": [
  {
   "cell_type": "markdown",
   "metadata": {},
   "source": [
    "# Non-Metrical filtrations \n",
    "(or any type of hand-made filtration)"
   ]
  },
  {
   "cell_type": "code",
   "execution_count": null,
   "metadata": {},
   "outputs": [],
   "source": [
    "import dionysus as dio \n",
    "import numpy as np \n",
    "from sklearn import datasets\n",
    "import matplotlib.pyplot as plt\n",
    "import networkx as nx "
   ]
  },
  {
   "cell_type": "markdown",
   "metadata": {},
   "source": [
    "## Simplices"
   ]
  },
  {
   "cell_type": "code",
   "execution_count": null,
   "metadata": {},
   "outputs": [],
   "source": [
    "s = dio.Simplex([0,1,2])\n",
    "print(\"Dimension:\", s.dimension())"
   ]
  },
  {
   "cell_type": "code",
   "execution_count": null,
   "metadata": {},
   "outputs": [],
   "source": [
    "for sb in s.boundary():\n",
    "     print(sb)\n",
    "\n",
    "for v in s:\n",
    "    print(v)\n",
    "    \n",
    "s.data = 5\n",
    "print(s)"
   ]
  },
  {
   "cell_type": "code",
   "execution_count": null,
   "metadata": {},
   "outputs": [],
   "source": [
    "simplex4 = dio.Simplex([0,1,2,3])\n",
    "sphere4  = dio.closure([simplex4], 4)\n",
    "print(sphere4)"
   ]
  },
  {
   "cell_type": "markdown",
   "metadata": {},
   "source": [
    "## Filtration: super simple case"
   ]
  },
  {
   "cell_type": "code",
   "execution_count": null,
   "metadata": {},
   "outputs": [],
   "source": [
    "simplices = [([2], 4), ([1,2], 5), ([0,2], 6), \n",
    "             ([0], 1),   ([1], 2), ([0,1], 3)]\n",
    "f = dio.Filtration()"
   ]
  },
  {
   "cell_type": "code",
   "execution_count": null,
   "metadata": {},
   "outputs": [],
   "source": [
    "for vertices, time in simplices:\n",
    "     f.append(dio.Simplex(vertices, time))\n",
    "f.sort()\n",
    "for s in f:\n",
    "    print(s)"
   ]
  },
  {
   "cell_type": "markdown",
   "metadata": {},
   "source": [
    "<img src = \"imgs/filtration.png\">\n",
    "\n"
   ]
  },
  {
   "cell_type": "code",
   "execution_count": null,
   "metadata": {},
   "outputs": [],
   "source": [
    "m = dio.homology_persistence(f)"
   ]
  },
  {
   "cell_type": "code",
   "execution_count": null,
   "metadata": {},
   "outputs": [],
   "source": [
    "dgms = dio.init_diagrams(m, f)\n",
    "print(dgms)"
   ]
  },
  {
   "cell_type": "code",
   "execution_count": null,
   "metadata": {},
   "outputs": [],
   "source": [
    "for i, dgm in enumerate(dgms):\n",
    "    for pt in dgm:\n",
    "        print(i, pt.birth, pt.death)"
   ]
  },
  {
   "cell_type": "markdown",
   "metadata": {},
   "source": [
    "## Filtration: slightly more complex case"
   ]
  },
  {
   "cell_type": "code",
   "execution_count": null,
   "metadata": {},
   "outputs": [],
   "source": [
    "points = np.random.random((100, 2))\n",
    "f = dio.fill_rips(points, 2, 1.)\n",
    "p = dio.homology_persistence(f)\n",
    "dgms = dio.init_diagrams(p, f)"
   ]
  },
  {
   "cell_type": "code",
   "execution_count": null,
   "metadata": {},
   "outputs": [],
   "source": [
    "dio.plot.plot_diagram(dgms[0]);\n",
    "dio.plot.plot_diagram(dgms[1]);"
   ]
  },
  {
   "cell_type": "markdown",
   "metadata": {},
   "source": [
    "## Filtration: non-metrical case"
   ]
  },
  {
   "cell_type": "code",
   "execution_count": null,
   "metadata": {},
   "outputs": [],
   "source": [
    "g = nx.read_weighted_edgelist('../data/wnets/celegans_weighted_undirected.edges',nodetype=int)"
   ]
  },
  {
   "cell_type": "code",
   "execution_count": null,
   "metadata": {},
   "outputs": [],
   "source": [
    "def weight_based_filtration(g, min_weight=None):\n",
    "    import networkx as nx \n",
    "    import dionysus as dio\n",
    "    w = nx.get_edge_attributes(g,'weight');\n",
    "    ww = [(k, w[k]) for k in sorted(w, key=w.get, reverse=True)]\n",
    "    if min_weight==None:\n",
    "        min_weight = ww[-1][1];\n",
    "    gg = nx.Graph();\n",
    "    gg.add_nodes_from(g.nodes());\n",
    "    CD = dio.Filtration()\n",
    "    index = 0\n",
    "    for n in g.nodes():\n",
    "        CD.append(dio.Simplex([n],index))\n",
    "\n",
    "    for k, v in ww:\n",
    "        gg.add_edge(k[0],k[1]);\n",
    "        cliques = nx.find_cliques(gg);\n",
    "        for clique in cliques:\n",
    "            if len(clique)>3:\n",
    "                new_simplices = dio.closure([dio.Simplex(clique)], len(clique));\n",
    "                for simp in new_simplices:\n",
    "                    if dio.Simplex(simp) not in CD:\n",
    "                        CD.append(dio.Simplex(simp,index));\n",
    "            elif len(clique)==2:\n",
    "                CD.append(dio.Simplex(clique,index))\n",
    "        index+=1; \n",
    "        if v==min_weight:\n",
    "            break;\n",
    "    return CD, index;"
   ]
  },
  {
   "cell_type": "code",
   "execution_count": null,
   "metadata": {},
   "outputs": [],
   "source": [
    "f = weight_based_filtration(g,2)[0]"
   ]
  },
  {
   "cell_type": "code",
   "execution_count": null,
   "metadata": {},
   "outputs": [],
   "source": [
    "m = dio.homology_persistence(f)\n",
    "dgms = dio.init_diagrams(m, f)"
   ]
  },
  {
   "cell_type": "code",
   "execution_count": null,
   "metadata": {},
   "outputs": [],
   "source": [
    "dio.plot.plot_diagram(dgms[0]);\n",
    "dio.plot.plot_diagram(dgms[1]);"
   ]
  },
  {
   "cell_type": "markdown",
   "metadata": {},
   "source": [
    "# Exercises"
   ]
  },
  {
   "cell_type": "markdown",
   "metadata": {},
   "source": [
    "## how to develop node-based value filtration?\n",
    "For example, based on:  \n",
    "- betweenness?\n",
    "- closeness centrality?\n",
    "- k-core filtration?\n",
    "- another node meta-data?"
   ]
  },
  {
   "cell_type": "markdown",
   "metadata": {},
   "source": [
    "## what about a neighbourhood-based filtration? \n",
    "- commute time?\n",
    "- shortest path? \n"
   ]
  }
 ],
 "metadata": {
  "kernelspec": {
   "display_name": "Python 3",
   "language": "python",
   "name": "python3"
  },
  "language_info": {
   "codemirror_mode": {
    "name": "ipython",
    "version": 3
   },
   "file_extension": ".py",
   "mimetype": "text/x-python",
   "name": "python",
   "nbconvert_exporter": "python",
   "pygments_lexer": "ipython3",
   "version": "3.6.6"
  }
 },
 "nbformat": 4,
 "nbformat_minor": 2
}
