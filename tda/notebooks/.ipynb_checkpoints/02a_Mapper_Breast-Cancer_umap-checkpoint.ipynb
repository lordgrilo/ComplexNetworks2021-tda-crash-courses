{
 "cells": [
  {
   "cell_type": "markdown",
   "metadata": {},
   "source": [
    "## Plotly plot of the kmapper graph associated to the breast cancer dataset"
   ]
  },
  {
   "cell_type": "code",
   "execution_count": 1,
   "metadata": {
    "ExecuteTime": {
     "end_time": "2021-11-27T13:20:40.132485Z",
     "start_time": "2021-11-27T13:20:38.872841Z"
    }
   },
   "outputs": [],
   "source": [
    "import sys\n",
    "try:\n",
    "    import pandas as pd\n",
    "except ImportError as e:\n",
    "    print(\"pandas is required for this example. Please install with conda or pip  and then try again.\")\n",
    "    sys.exit()\n",
    "\n",
    "import numpy as np\n",
    "import sklearn\n",
    "from sklearn import ensemble\n",
    "import kmapper as km\n",
    "from kmapper.plotlyviz import *\n",
    "\n",
    "import warnings\n",
    "warnings.filterwarnings(\"ignore\")"
   ]
  },
  {
   "cell_type": "code",
   "execution_count": 2,
   "metadata": {
    "ExecuteTime": {
     "end_time": "2021-11-27T13:20:40.142906Z",
     "start_time": "2021-11-27T13:20:40.135102Z"
    }
   },
   "outputs": [],
   "source": [
    "import plotly.graph_objs as go\n",
    "from ipywidgets import (HBox, VBox)"
   ]
  },
  {
   "cell_type": "code",
   "execution_count": 5,
   "metadata": {
    "ExecuteTime": {
     "end_time": "2021-11-27T13:24:23.376346Z",
     "start_time": "2021-11-27T13:24:19.781483Z"
    }
   },
   "outputs": [],
   "source": [
    "# Data - the Wisconsin Breast Cancer Dataset\n",
    "# https://www.kaggle.com/uciml/breast-cancer-wisconsin-data\n",
    "import umap\n",
    "df = pd.read_csv(\"../data/mapper-data/breast-cancer.csv\")\n",
    "feature_names = [c for c in df.columns if c not in [\"id\", \"diagnosis\"]]\n",
    "df[\"diagnosis\"] = df[\"diagnosis\"].apply(lambda x: 1 if x == \"M\" else 0)\n",
    "X = np.array(df[feature_names].fillna(0))\n",
    "y = np.array(df[\"diagnosis\"])\n",
    "\n",
    "\n",
    "# Create another 2-D lens with UMAP\n",
    "mapper = km.KeplerMapper(verbose=0)\n",
    "\n",
    "lens = mapper.fit_transform(X, projection=umap.UMAP(n_neighbors=8,\n",
    "                                                    min_dist=0.65,\n",
    "                                                    n_components=2,\n",
    "                                                    metric='euclidean',\n",
    "                                                    random_state=3571))\n",
    "\n",
    "cover = km.Cover(n_cubes=15,perc_overlap=0.7)                                                                 \n",
    "# Define the simplicial complex\n",
    "scomplex = mapper.map(lens, X,\n",
    "                      cover=cover,    \n",
    "                      clusterer=sklearn.cluster.KMeans(n_clusters=2,\n",
    "                                                       random_state=3471))"
   ]
  },
  {
   "cell_type": "markdown",
   "metadata": {},
   "source": [
    "First we visualize the resulting graph via a   `color_function` that associates to lens data   their  x-coordinate distance to min, and  colormap these coordinates  to a given Plotly colorscale. Here we use the brewer colorscale with hex color codes."
   ]
  },
  {
   "cell_type": "code",
   "execution_count": 6,
   "metadata": {
    "ExecuteTime": {
     "end_time": "2021-11-27T13:24:23.383666Z",
     "start_time": "2021-11-27T13:24:23.378083Z"
    }
   },
   "outputs": [],
   "source": [
    "pl_brewer = [[0.0, '#006837'],\n",
    "             [0.1, '#1a9850'],\n",
    "             [0.2, '#66bd63'],\n",
    "             [0.3, '#a6d96a'],\n",
    "             [0.4, '#d9ef8b'],\n",
    "             [0.5, '#ffffbf'],\n",
    "             [0.6, '#fee08b'],\n",
    "             [0.7, '#fdae61'],\n",
    "             [0.8, '#f46d43'],\n",
    "             [0.9, '#d73027'],\n",
    "             [1.0, '#a50026']]"
   ]
  },
  {
   "cell_type": "code",
   "execution_count": 7,
   "metadata": {
    "ExecuteTime": {
     "end_time": "2021-11-27T13:24:24.275798Z",
     "start_time": "2021-11-27T13:24:23.585913Z"
    }
   },
   "outputs": [],
   "source": [
    "color_function = lens [:,0] - lens[:,0].min()\n",
    "my_colorscale = pl_brewer\n",
    "kmgraph,  mapper_summary, colorf_distribution = get_mapper_graph(scomplex, \n",
    "                                                                 color_function,  \n",
    "                                                                 color_function_name='Distance to x-min', \n",
    "                                                                 colorscale=my_colorscale)\n",
    "\n",
    "# assign to node['custom_tooltips']  the node label (0 for benign, 1 for malignant)\n",
    "for node in kmgraph['nodes']:\n",
    "    node['custom_tooltips'] = y[scomplex['nodes'][node['name']]]                         "
   ]
  },
  {
   "cell_type": "markdown",
   "metadata": {},
   "source": [
    "Since the chosen colorscale leads  to a few light colors when it it used for histogram bars,\n",
    "we set a black background color to make the bars visible:"
   ]
  },
  {
   "cell_type": "code",
   "execution_count": 8,
   "metadata": {
    "ExecuteTime": {
     "end_time": "2021-11-27T13:24:25.814503Z",
     "start_time": "2021-11-27T13:24:25.811987Z"
    }
   },
   "outputs": [],
   "source": [
    "bgcolor = 'rgba(10,10,10, 0.9)'\n",
    "y_gridcolor = 'rgb(150,150,150)'# on a black background the gridlines are set on  grey"
   ]
  },
  {
   "cell_type": "code",
   "execution_count": 9,
   "metadata": {
    "ExecuteTime": {
     "end_time": "2021-11-27T13:24:27.256041Z",
     "start_time": "2021-11-27T13:24:26.486654Z"
    }
   },
   "outputs": [],
   "source": [
    "plotly_graph_data = plotly_graph(kmgraph, graph_layout='fr', colorscale=my_colorscale, \n",
    "                                 factor_size=2.5, edge_linewidth=0.5)\n",
    "layout = plot_layout(title='Topological network representing the<br>  breast cancer  dataset',  \n",
    "                     width=620, height=570,\n",
    "                     annotation_text=get_kmgraph_meta(mapper_summary),  \n",
    "                     bgcolor=bgcolor)\n",
    "\n",
    "fw_graph = go.FigureWidget(data=plotly_graph_data, layout=layout)\n",
    "fw_hist = node_hist_fig(colorf_distribution, bgcolor=bgcolor,\n",
    "                        y_gridcolor=y_gridcolor)\n",
    "fw_summary = summary_fig(mapper_summary, height=300)\n",
    "dashboard = hovering_widgets(kmgraph, \n",
    "                             fw_graph, \n",
    "                             ctooltips=True, # ctooltips = True, because we assigned a label to each \n",
    "                                             #cluster member\n",
    "                             bgcolor=bgcolor,\n",
    "                             y_gridcolor=y_gridcolor, \n",
    "                             member_textbox_width=600)\n",
    "\n",
    "#Update the fw_graph colorbar, setting its title:\n",
    "    \n",
    "fw_graph.data[1].marker.colorbar.title = 'dist to<br>x-min'\n"
   ]
  },
  {
   "cell_type": "code",
   "execution_count": 10,
   "metadata": {
    "ExecuteTime": {
     "end_time": "2021-11-27T13:24:28.386175Z",
     "start_time": "2021-11-27T13:24:28.298375Z"
    }
   },
   "outputs": [
    {
     "data": {
      "application/vnd.jupyter.widget-view+json": {
       "model_id": "a062e6513bd24e45bb4fe20dec489d7a",
       "version_major": 2,
       "version_minor": 0
      },
      "text/plain": [
       "VBox(children=(FigureWidget({\n",
       "    'data': [{'hoverinfo': 'none',\n",
       "              'line': {'color': 'rgb(180,180,…"
      ]
     },
     "metadata": {},
     "output_type": "display_data"
    }
   ],
   "source": [
    "VBox([fw_graph, HBox([fw_summary, fw_hist])])"
   ]
  },
  {
   "cell_type": "code",
   "execution_count": 11,
   "metadata": {
    "ExecuteTime": {
     "end_time": "2021-11-27T13:24:46.640856Z",
     "start_time": "2021-11-27T13:24:46.546228Z"
    }
   },
   "outputs": [
    {
     "data": {
      "application/vnd.jupyter.widget-view+json": {
       "model_id": "1063ba5d7b714446a7e31d06c678a9b8",
       "version_major": 2,
       "version_minor": 0
      },
      "text/plain": [
       "VBox(children=(HBox(children=(FigureWidget({\n",
       "    'data': [{'hoverinfo': 'none',\n",
       "              'line': {'color'…"
      ]
     },
     "metadata": {},
     "output_type": "display_data"
    }
   ],
   "source": [
    "dashboard"
   ]
  },
  {
   "cell_type": "markdown",
   "metadata": {},
   "source": [
    "In the following we illustrate how  we can duplicate FigureWidget(s) and update them. This is just a pretext to\n",
    "illustrate how the kmapper graph figure can be manipulated for a more in-depth study or for \n",
    "publication."
   ]
  },
  {
   "cell_type": "markdown",
   "metadata": {},
   "source": [
    "Here we duplicate the initial FigureWidget, `fw_graph`,  and recolor its  graph nodes according to the proportion of malignant members. The two FigureWidgets are then restyled and plotted alonside each other for comparison."
   ]
  },
  {
   "cell_type": "code",
   "execution_count": 12,
   "metadata": {
    "ExecuteTime": {
     "end_time": "2021-11-27T13:24:48.529340Z",
     "start_time": "2021-11-27T13:24:48.188667Z"
    }
   },
   "outputs": [],
   "source": [
    "breastc_dict = {0: 'benign', 1: 'malignant'}\n",
    "tooltips = list(fw_graph.data[1].text) # we perform this conversion because fw.data[1].text is a tuple and we want to update\n",
    "                                     # the tooltips\n",
    "\n",
    "new_color = []\n",
    "for j, node in enumerate(kmgraph['nodes']):\n",
    "    member_label_ids = y[scomplex['nodes'][node['name']]]\n",
    "    member_labels = [breastc_dict[id] for id in member_label_ids]\n",
    "    label_type, label_counts = np.unique(member_labels, return_counts=True) \n",
    "    \n",
    "    n_members = label_counts.sum()\n",
    "    if label_type.shape[0] == 1:\n",
    "        if label_type[0] == 'benign':\n",
    "            new_color.append(0)\n",
    "        else:\n",
    "            new_color.append(1)\n",
    "    else:        \n",
    "        new_color.append(1.0*label_counts[1]/n_members)#multiply by 1 for python 2.7.+\n",
    "       \n",
    "    for m in range(len(label_counts)):\n",
    "        tooltips[j] += '<br>' + str(label_type[m]) + ': ' + str(label_counts[m]) # append  how many benign/malign \n",
    "                                                                                 # members exist in each node\n",
    "\n",
    "fwn_graph = go.FigureWidget(fw_graph) # copy the initial FigureWidget\n",
    "\n",
    "with fwn_graph.batch_update(): # make updates for the new figure                                                                \n",
    "    fwn_graph.data[1].text = tooltips # add the new tooltips\n",
    "    fwn_graph.data[1].marker.colorbar.x = -0.14 # place toolbar at the figure left side\n",
    "    fwn_graph.layout.width = 550 # change the figure size in order to plot two \"parallel\" copies\n",
    "    fwn_graph.layout.height = 550\n",
    "    fwn_graph.layout.margin.r = 45 # decrease the right margin from 60px (default val) to 45 pixels\n",
    "    \n",
    "fw1 = go.FigureWidget(fwn_graph) # define a new figure from  the fwn_graph that will be colored by the new color function  \n",
    "with fw1.batch_update():\n",
    "    fw1.data[1].marker.color = new_color # update node colors\n",
    "    fw1.data[0].line.color = 'rgb(125,125,125)' # update the graph edge color\n",
    "    fw1.layout.plot_bgcolor = 'rgb(240,240,240)'\n",
    "    fw1.layout.annotations = None # remove the mapper_summary from the second plot\n",
    "    fw1.data[1].marker.showscale = False # remove the colorbar\n",
    "    fw1.layout.title = \"Nodes are colored according to the proportion<br> of malignant members\""
   ]
  },
  {
   "cell_type": "markdown",
   "metadata": {},
   "source": [
    "Plot  the dashboard consisting in the two figures:"
   ]
  },
  {
   "cell_type": "code",
   "execution_count": 13,
   "metadata": {
    "ExecuteTime": {
     "end_time": "2021-11-27T13:24:50.096876Z",
     "start_time": "2021-11-27T13:24:49.942994Z"
    }
   },
   "outputs": [
    {
     "data": {
      "application/vnd.jupyter.widget-view+json": {
       "model_id": "a65ad2b8d9c4421c839f8570f7ebb1b1",
       "version_major": 2,
       "version_minor": 0
      },
      "text/plain": [
       "HBox(children=(FigureWidget({\n",
       "    'data': [{'hoverinfo': 'none',\n",
       "              'line': {'color': 'rgb(180,180,…"
      ]
     },
     "metadata": {},
     "output_type": "display_data"
    }
   ],
   "source": [
    "HBox([fwn_graph, fw1])"
   ]
  },
  {
   "cell_type": "code",
   "execution_count": 14,
   "metadata": {
    "ExecuteTime": {
     "end_time": "2021-11-27T13:25:00.038550Z",
     "start_time": "2021-11-27T13:24:58.625967Z"
    }
   },
   "outputs": [
    {
     "data": {
      "text/html": [
       "<style>\n",
       "        .container { width:100% !important; }\n",
       "        .output_scroll {height: 800px !important;}\n",
       "        </style>"
      ],
      "text/plain": [
       "<IPython.core.display.HTML object>"
      ]
     },
     "metadata": {},
     "output_type": "display_data"
    },
    {
     "data": {
      "text/html": [
       "<iframe src=breast_cancer_mapper_umap.html width=100%% height=800 frameBorder=\"0\"></iframe>"
      ],
      "text/plain": [
       "<IPython.core.display.HTML object>"
      ]
     },
     "metadata": {},
     "output_type": "display_data"
    }
   ],
   "source": [
    "html = mapper.visualize(scomplex, path_html=\"breast_cancer_mapper_umap.html\",\n",
    "                 title=\"breast cancer umap\")\n",
    "\n",
    "# Inline display\n",
    "# jupyter.display(path_html=\"http://mlwave.github.io/tda/word2vec-gender-bias.html\")\n",
    "from kmapper import jupyter\n",
    "jupyter.display(path_html=\"breast_cancer_mapper_umap.html\")"
   ]
  },
  {
   "cell_type": "code",
   "execution_count": null,
   "metadata": {},
   "outputs": [],
   "source": []
  }
 ],
 "metadata": {
  "kernelspec": {
   "display_name": "Python 3",
   "language": "python",
   "name": "python3"
  },
  "language_info": {
   "codemirror_mode": {
    "name": "ipython",
    "version": 3
   },
   "file_extension": ".py",
   "mimetype": "text/x-python",
   "name": "python",
   "nbconvert_exporter": "python",
   "pygments_lexer": "ipython3",
   "version": "3.9.8"
  },
  "toc": {
   "base_numbering": 1,
   "nav_menu": {},
   "number_sections": true,
   "sideBar": true,
   "skip_h1_title": false,
   "title_cell": "Table of Contents",
   "title_sidebar": "Contents",
   "toc_cell": false,
   "toc_position": {},
   "toc_section_display": true,
   "toc_window_display": false
  }
 },
 "nbformat": 4,
 "nbformat_minor": 2
}
