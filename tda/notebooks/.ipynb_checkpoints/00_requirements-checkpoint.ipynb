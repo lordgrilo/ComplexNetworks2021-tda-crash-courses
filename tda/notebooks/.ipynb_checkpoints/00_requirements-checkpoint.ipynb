{
 "cells": [
  {
   "cell_type": "markdown",
   "metadata": {},
   "source": [
    "# Scikit-tda \n",
    "\n",
    "```\n",
    "pip install scikit-tda\n",
    "```\n",
    "This is sufficient for most of the notebooks, since we will be using its submodules (kmapper, ripser, umap, persim). \n",
    "However, it sometimes gives trouble installing as a single one, so please check you have the single packages. You can find more info here: https://scikit-tda.org\n",
    "\n",
    "Note that ripser requires Cython so, well...\n",
    "```\n",
    "pip install Cython ripser\n",
    "```"
   ]
  },
  {
   "cell_type": "markdown",
   "metadata": {},
   "source": [
    "# Dionysus 2 \n",
    "```\n",
    "pip install dionysus\n",
    "```\n",
    "Dionysus 1 used to be un-compilable, but this version should compile without problems. If not, check the website for help: http://mrzv.org/software/dionysus2/\n"
   ]
  },
  {
   "cell_type": "markdown",
   "metadata": {},
   "source": [
    "# Distances\n",
    "\n",
    "For some notebooks, we'll need to install Persim.py to create the persistence diagrams:\n",
    "```\n",
    "pip install persim\n",
    "```"
   ]
  },
  {
   "cell_type": "markdown",
   "metadata": {},
   "source": [
    "# Miscellania \n",
    "- all the code is provide as notebooks, please install jupyter notebook\n",
    "- Cython\n",
    "- ipywidgets\n",
    "- keras\n",
    "- plotly\n",
    "- umap\n",
    "- pillow\n",
    "- tsfresh"
   ]
  },
  {
   "cell_type": "code",
   "execution_count": null,
   "metadata": {},
   "outputs": [],
   "source": []
  }
 ],
 "metadata": {
  "kernelspec": {
   "display_name": "Python 3",
   "language": "python",
   "name": "python3"
  },
  "language_info": {
   "codemirror_mode": {
    "name": "ipython",
    "version": 3
   },
   "file_extension": ".py",
   "mimetype": "text/x-python",
   "name": "python",
   "nbconvert_exporter": "python",
   "pygments_lexer": "ipython3",
   "version": "3.9.8"
  },
  "toc": {
   "base_numbering": 1,
   "nav_menu": {},
   "number_sections": true,
   "sideBar": true,
   "skip_h1_title": false,
   "title_cell": "Table of Contents",
   "title_sidebar": "Contents",
   "toc_cell": false,
   "toc_position": {},
   "toc_section_display": true,
   "toc_window_display": false
  }
 },
 "nbformat": 4,
 "nbformat_minor": 2
}
