{
 "cells": [
  {
   "cell_type": "markdown",
   "metadata": {},
   "source": [
    "# Non-Metrical filtrations \n",
    "(or any type of hand-made filtration)"
   ]
  },
  {
   "cell_type": "code",
   "execution_count": 5,
   "metadata": {
    "ExecuteTime": {
     "end_time": "2021-11-27T14:10:18.762782Z",
     "start_time": "2021-11-27T14:10:18.760778Z"
    }
   },
   "outputs": [],
   "source": [
    "# !pip install dionysus"
   ]
  },
  {
   "cell_type": "code",
   "execution_count": 6,
   "metadata": {
    "ExecuteTime": {
     "end_time": "2021-11-27T14:10:21.178972Z",
     "start_time": "2021-11-27T14:10:19.896848Z"
    }
   },
   "outputs": [],
   "source": [
    "import dionysus as dio \n",
    "import numpy as np \n",
    "from sklearn import datasets\n",
    "import matplotlib.pyplot as plt\n",
    "import networkx as nx "
   ]
  },
  {
   "cell_type": "markdown",
   "metadata": {},
   "source": [
    "## Simplices"
   ]
  },
  {
   "cell_type": "code",
   "execution_count": 7,
   "metadata": {
    "ExecuteTime": {
     "end_time": "2021-11-27T14:10:22.092973Z",
     "start_time": "2021-11-27T14:10:22.090107Z"
    }
   },
   "outputs": [
    {
     "name": "stdout",
     "output_type": "stream",
     "text": [
      "Dimension: 2\n"
     ]
    }
   ],
   "source": [
    "s = dio.Simplex([0,1,2])\n",
    "print(\"Dimension:\", s.dimension())"
   ]
  },
  {
   "cell_type": "code",
   "execution_count": 8,
   "metadata": {
    "ExecuteTime": {
     "end_time": "2021-11-27T14:10:23.355211Z",
     "start_time": "2021-11-27T14:10:23.350355Z"
    }
   },
   "outputs": [
    {
     "name": "stdout",
     "output_type": "stream",
     "text": [
      "<1,2> 0\n",
      "<0,2> 0\n",
      "<0,1> 0\n",
      "0\n",
      "1\n",
      "2\n",
      "<0,1,2> 5\n"
     ]
    }
   ],
   "source": [
    "for sb in s.boundary():\n",
    "     print(sb)\n",
    "\n",
    "for v in s:\n",
    "    print(v)\n",
    "    \n",
    "s.data = 5\n",
    "print(s)"
   ]
  },
  {
   "cell_type": "code",
   "execution_count": 9,
   "metadata": {
    "ExecuteTime": {
     "end_time": "2021-11-27T14:10:23.511980Z",
     "start_time": "2021-11-27T14:10:23.508216Z"
    }
   },
   "outputs": [
    {
     "name": "stdout",
     "output_type": "stream",
     "text": [
      "[<0,2,3> 0, <0,1,3> 0, <0,2> 0, <0,1> 0, <1,3> 0, <0,3> 0, <1,2> 0, <2,3> 0, <1,2,3> 0, <0,1,2,3> 0, <0> 0, <1> 0, <2> 0, <3> 0, <0,1,2> 0]\n"
     ]
    }
   ],
   "source": [
    "simplex4 = dio.Simplex([0,1,2,3])\n",
    "sphere4  = dio.closure([simplex4], 4)\n",
    "print(sphere4)"
   ]
  },
  {
   "cell_type": "markdown",
   "metadata": {},
   "source": [
    "## Filtration: super simple case"
   ]
  },
  {
   "cell_type": "code",
   "execution_count": 10,
   "metadata": {
    "ExecuteTime": {
     "end_time": "2021-11-27T14:10:25.534905Z",
     "start_time": "2021-11-27T14:10:25.532411Z"
    }
   },
   "outputs": [],
   "source": [
    "simplices = [([2], 4), ([1,2], 5), ([0,2], 6), \n",
    "             ([0], 1),   ([1], 2), ([0,1], 3)]\n",
    "f = dio.Filtration()"
   ]
  },
  {
   "cell_type": "code",
   "execution_count": 11,
   "metadata": {
    "ExecuteTime": {
     "end_time": "2021-11-27T14:10:25.851532Z",
     "start_time": "2021-11-27T14:10:25.848120Z"
    }
   },
   "outputs": [
    {
     "name": "stdout",
     "output_type": "stream",
     "text": [
      "<0> 1\n",
      "<1> 2\n",
      "<0,1> 3\n",
      "<2> 4\n",
      "<1,2> 5\n",
      "<0,2> 6\n"
     ]
    }
   ],
   "source": [
    "for vertices, time in simplices:\n",
    "     f.append(dio.Simplex(vertices, time))\n",
    "f.sort()\n",
    "for s in f:\n",
    "    print(s)"
   ]
  },
  {
   "cell_type": "markdown",
   "metadata": {},
   "source": [
    "<img src = \"imgs/filtration.png\">\n",
    "\n"
   ]
  },
  {
   "cell_type": "code",
   "execution_count": 12,
   "metadata": {
    "ExecuteTime": {
     "end_time": "2021-11-27T14:10:26.985960Z",
     "start_time": "2021-11-27T14:10:26.984021Z"
    }
   },
   "outputs": [],
   "source": [
    "m = dio.homology_persistence(f)"
   ]
  },
  {
   "cell_type": "code",
   "execution_count": 13,
   "metadata": {
    "ExecuteTime": {
     "end_time": "2021-11-27T14:10:27.515429Z",
     "start_time": "2021-11-27T14:10:27.513005Z"
    }
   },
   "outputs": [
    {
     "name": "stdout",
     "output_type": "stream",
     "text": [
      "[Diagram with 3 points, Diagram with 1 points]\n"
     ]
    }
   ],
   "source": [
    "dgms = dio.init_diagrams(m, f)\n",
    "print(dgms)"
   ]
  },
  {
   "cell_type": "code",
   "execution_count": 14,
   "metadata": {
    "ExecuteTime": {
     "end_time": "2021-11-27T14:10:28.080776Z",
     "start_time": "2021-11-27T14:10:28.077092Z"
    }
   },
   "outputs": [
    {
     "name": "stdout",
     "output_type": "stream",
     "text": [
      "0 1.0 inf\n",
      "0 2.0 3.0\n",
      "0 4.0 5.0\n",
      "1 6.0 inf\n"
     ]
    }
   ],
   "source": [
    "for i, dgm in enumerate(dgms):\n",
    "    for pt in dgm:\n",
    "        print(i, pt.birth, pt.death)"
   ]
  },
  {
   "cell_type": "markdown",
   "metadata": {},
   "source": [
    "## (Aside) Metrical Filtration: it's possible here too.."
   ]
  },
  {
   "cell_type": "code",
   "execution_count": 15,
   "metadata": {
    "ExecuteTime": {
     "end_time": "2021-11-27T14:10:30.309246Z",
     "start_time": "2021-11-27T14:10:29.065250Z"
    }
   },
   "outputs": [],
   "source": [
    "points = np.random.random((100, 2))\n",
    "f = dio.fill_rips(points, 2, 1.)\n",
    "p = dio.homology_persistence(f)\n",
    "dgms = dio.init_diagrams(p, f)"
   ]
  },
  {
   "cell_type": "code",
   "execution_count": 16,
   "metadata": {
    "ExecuteTime": {
     "end_time": "2021-11-27T14:10:30.533869Z",
     "start_time": "2021-11-27T14:10:30.311133Z"
    }
   },
   "outputs": [
    {
     "data": {
      "image/png": "[encoded data removed]",
      "text/plain": [
       "<Figure size 432x288 with 2 Axes>"
      ]
     },
     "metadata": {
      "needs_background": "light"
     },
     "output_type": "display_data"
    }
   ],
   "source": [
    "dio.plot.plot_diagram(dgms[0]);\n",
    "dio.plot.plot_diagram(dgms[1]);"
   ]
  },
  {
   "cell_type": "markdown",
   "metadata": {},
   "source": [
    "## Filtration: non-metrical case"
   ]
  },
  {
   "cell_type": "code",
   "execution_count": 17,
   "metadata": {
    "ExecuteTime": {
     "end_time": "2021-11-27T14:10:31.922412Z",
     "start_time": "2021-11-27T14:10:31.911343Z"
    }
   },
   "outputs": [],
   "source": [
    "g = nx.read_weighted_edgelist('../data/wnets/celegans_weighted_undirected.edges',nodetype=int)"
   ]
  },
  {
   "cell_type": "code",
   "execution_count": 18,
   "metadata": {
    "ExecuteTime": {
     "end_time": "2021-11-27T14:10:33.581736Z",
     "start_time": "2021-11-27T14:10:33.576609Z"
    }
   },
   "outputs": [],
   "source": [
    "def weight_based_filtration(g, min_weight=None):\n",
    "    import networkx as nx \n",
    "    import dionysus as dio\n",
    "    w = nx.get_edge_attributes(g,'weight');\n",
    "    ww = [(k, w[k]) for k in sorted(w, key=w.get, reverse=True)]\n",
    "    if min_weight==None:\n",
    "        min_weight = ww[-1][1];\n",
    "    gg = nx.Graph();\n",
    "    gg.add_nodes_from(g.nodes());\n",
    "    CD = dio.Filtration()\n",
    "    index = 0\n",
    "    for n in g.nodes():\n",
    "        CD.append(dio.Simplex([n],index))\n",
    "\n",
    "    for k, v in ww:\n",
    "        gg.add_edge(k[0],k[1]);\n",
    "        cliques = nx.find_cliques(gg);\n",
    "        for clique in cliques:\n",
    "            if len(clique)>3:\n",
    "                new_simplices = dio.closure([dio.Simplex(clique)], len(clique));\n",
    "                for simp in new_simplices:\n",
    "                    if dio.Simplex(simp) not in CD:\n",
    "                        CD.append(dio.Simplex(simp,index));\n",
    "            elif len(clique)==2:\n",
    "                CD.append(dio.Simplex(clique,index))\n",
    "        index+=1; \n",
    "        if v==min_weight:\n",
    "            break;\n",
    "    return CD, index;"
   ]
  },
  {
   "cell_type": "code",
   "execution_count": 19,
   "metadata": {
    "ExecuteTime": {
     "end_time": "2021-11-27T14:10:39.835672Z",
     "start_time": "2021-11-27T14:10:34.848805Z"
    }
   },
   "outputs": [],
   "source": [
    "f = weight_based_filtration(g,2)[0]"
   ]
  },
  {
   "cell_type": "code",
   "execution_count": 20,
   "metadata": {
    "ExecuteTime": {
     "end_time": "2021-11-27T14:10:39.844083Z",
     "start_time": "2021-11-27T14:10:39.838079Z"
    }
   },
   "outputs": [],
   "source": [
    "m = dio.homology_persistence(f)\n",
    "dgms = dio.init_diagrams(m, f)"
   ]
  },
  {
   "cell_type": "code",
   "execution_count": 25,
   "metadata": {
    "ExecuteTime": {
     "end_time": "2021-11-27T14:11:25.673064Z",
     "start_time": "2021-11-27T14:11:25.482680Z"
    }
   },
   "outputs": [
    {
     "data": {
      "image/png": "[encoded data removed]",
      "text/plain": [
       "<Figure size 864x288 with 2 Axes>"
      ]
     },
     "metadata": {
      "needs_background": "light"
     },
     "output_type": "display_data"
    }
   ],
   "source": [
    "fig =plt.figure(figsize=(12,4))\n",
    "ax = plt.subplot(121)\n",
    "dio.plot.plot_diagram(dgms[0], ax=ax);\n",
    "ax = plt.subplot(122)\n",
    "dio.plot.plot_diagram(dgms[1], ax=ax);"
   ]
  },
  {
   "cell_type": "markdown",
   "metadata": {},
   "source": [
    "# Exercises"
   ]
  },
  {
   "cell_type": "markdown",
   "metadata": {},
   "source": [
    "Note that the filtration is now labeled by the rank index of the weights not the actual weights.   \n",
    "Filtrations are always on the integers, but can be remapped back after the computation of persistent homology"
   ]
  },
  {
   "cell_type": "markdown",
   "metadata": {},
   "source": [
    "## how to develop node-based value filtration?\n",
    "For example, based on:  \n",
    "- betweenness?\n",
    "- closeness centrality?\n",
    "- k-core filtration?\n",
    "- another node meta-data?"
   ]
  },
  {
   "cell_type": "markdown",
   "metadata": {},
   "source": [
    "## what about a neighbourhood-based filtration? \n",
    "- commute time?\n",
    "- shortest path? \n"
   ]
  },
  {
   "cell_type": "code",
   "execution_count": null,
   "metadata": {},
   "outputs": [],
   "source": []
  }
 ],
 "metadata": {
  "kernelspec": {
   "display_name": "Python 3",
   "language": "python",
   "name": "python3"
  },
  "language_info": {
   "codemirror_mode": {
    "name": "ipython",
    "version": 3
   },
   "file_extension": ".py",
   "mimetype": "text/x-python",
   "name": "python",
   "nbconvert_exporter": "python",
   "pygments_lexer": "ipython3",
   "version": "3.9.8"
  },
  "toc": {
   "base_numbering": 1,
   "nav_menu": {},
   "number_sections": true,
   "sideBar": true,
   "skip_h1_title": false,
   "title_cell": "Table of Contents",
   "title_sidebar": "Contents",
   "toc_cell": false,
   "toc_position": {},
   "toc_section_display": true,
   "toc_window_display": false
  }
 },
 "nbformat": 4,
 "nbformat_minor": 2
}
