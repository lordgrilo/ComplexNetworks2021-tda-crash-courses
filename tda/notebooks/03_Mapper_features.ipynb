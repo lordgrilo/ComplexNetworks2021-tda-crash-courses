{
 "cells": [
  {
   "cell_type": "markdown",
   "metadata": {},
   "source": [
    "# Topological feature map\n",
    "Reference: https://royalsocietypublishing.org/doi/full/10.1098/rsif.2017.0734"
   ]
  },
  {
   "cell_type": "code",
   "execution_count": 1,
   "metadata": {
    "ExecuteTime": {
     "end_time": "2021-11-27T13:25:28.562192Z",
     "start_time": "2021-11-27T13:25:28.542080Z"
    }
   },
   "outputs": [],
   "source": [
    "%load_ext autoreload\n",
    "%autoreload 2"
   ]
  },
  {
   "cell_type": "code",
   "execution_count": 2,
   "metadata": {
    "ExecuteTime": {
     "end_time": "2021-11-27T13:25:38.573442Z",
     "start_time": "2021-11-27T13:25:28.767000Z"
    }
   },
   "outputs": [],
   "source": [
    "import numpy as np\n",
    "import sklearn\n",
    "from sklearn import datasets\n",
    "import pandas as pd\n",
    "try:\n",
    "    import umap\n",
    "except ImportError:\n",
    "    print(\"This example requires the UMAP library. You can install it with the command `!pip install umap-learn`\")\n",
    "import warnings\n",
    "warnings.filterwarnings(\"ignore\")"
   ]
  },
  {
   "cell_type": "code",
   "execution_count": 3,
   "metadata": {
    "ExecuteTime": {
     "end_time": "2021-11-27T13:25:38.716529Z",
     "start_time": "2021-11-27T13:25:38.575138Z"
    }
   },
   "outputs": [],
   "source": [
    "import kmapper as km\n",
    "from kmapper.plotlyviz import plotlyviz\n",
    "from kmapper.plotlyviz import *\n",
    "import plotly.graph_objs as go\n",
    "import ipywidgets as ipw"
   ]
  },
  {
   "cell_type": "code",
   "execution_count": 4,
   "metadata": {
    "ExecuteTime": {
     "end_time": "2021-11-27T13:25:38.748867Z",
     "start_time": "2021-11-27T13:25:38.718661Z"
    }
   },
   "outputs": [],
   "source": [
    "import os \n",
    "data_dir = '../data/epi-ts/'\n",
    "ts = os.listdir(data_dir);"
   ]
  },
  {
   "cell_type": "markdown",
   "metadata": {},
   "source": [
    "Load the data"
   ]
  },
  {
   "cell_type": "code",
   "execution_count": 5,
   "metadata": {
    "ExecuteTime": {
     "end_time": "2021-11-27T13:25:42.614267Z",
     "start_time": "2021-11-27T13:25:42.491145Z"
    }
   },
   "outputs": [],
   "source": [
    "data = {}\n",
    "epi = []\n",
    "t = []\n",
    "ids = []\n",
    "count = 0;\n",
    "labels = []\n",
    "for i,x in enumerate(sorted(ts)[:3]): \n",
    "    #I'm just using the first three diseases here, you can probably do better \n",
    "    data[x] = pd.read_csv(data_dir+x, skiprows=2,na_values='-',dtype=np.float64);\n",
    "    labels.extend([x.split('_')[0],i]*data[x].shape[1])\n",
    "    filled = data[x].fillna(0);\n",
    "    for col in filled.columns[2:]:\n",
    "        ids.extend([count]*data[x].shape[0]);\n",
    "        epi.extend(filled[col]);\n",
    "        t.extend(range(data[x].shape[0]));\n",
    "        count+=1;"
   ]
  },
  {
   "cell_type": "code",
   "execution_count": 8,
   "metadata": {
    "ExecuteTime": {
     "end_time": "2021-11-27T13:26:23.727927Z",
     "start_time": "2021-11-27T13:25:58.098022Z"
    }
   },
   "outputs": [],
   "source": [
    "import tsfresh as tsf\n",
    "from tsfresh.feature_extraction.extraction import extract_features"
   ]
  },
  {
   "cell_type": "markdown",
   "metadata": {},
   "source": [
    "Reshape the timeseries in a format that tsfresh understands"
   ]
  },
  {
   "cell_type": "code",
   "execution_count": 9,
   "metadata": {
    "ExecuteTime": {
     "end_time": "2021-11-27T13:27:00.044989Z",
     "start_time": "2021-11-27T13:26:59.913708Z"
    }
   },
   "outputs": [
    {
     "data": {
      "text/plain": [
       "(312900, 3)"
      ]
     },
     "execution_count": 9,
     "metadata": {},
     "output_type": "execute_result"
    }
   ],
   "source": [
    "rdf = pd.DataFrame(np.array([ids,t,epi]).T, columns=['id','t','epi'])\n",
    "rdf.shape"
   ]
  },
  {
   "cell_type": "code",
   "execution_count": 16,
   "metadata": {
    "ExecuteTime": {
     "end_time": "2021-11-27T13:38:53.061195Z",
     "start_time": "2021-11-27T13:38:52.921359Z"
    }
   },
   "outputs": [],
   "source": [
    "# !pip3 install statsmodels==0.12.2"
   ]
  },
  {
   "cell_type": "code",
   "execution_count": 15,
   "metadata": {
    "ExecuteTime": {
     "end_time": "2021-11-27T13:38:52.913553Z",
     "start_time": "2021-11-27T13:34:35.612043Z"
    }
   },
   "outputs": [
    {
     "name": "stderr",
     "output_type": "stream",
     "text": [
      "[autoreload of statsmodels.tools._testing failed: Traceback (most recent call last):\n",
      "  File \"/usr/local/lib/python3.9/site-packages/IPython/extensions/autoreload.py\", line 245, in check\n",
      "    superreload(m, reload, self.old_objects)\n",
      "  File \"/usr/local/lib/python3.9/site-packages/IPython/extensions/autoreload.py\", line 394, in superreload\n",
      "    module = reload(module)\n",
      "  File \"/usr/local/Cellar/python@3.9/3.9.8/Frameworks/Python.framework/Versions/3.9/lib/python3.9/imp.py\", line 314, in reload\n",
      "    return importlib.reload(module)\n",
      "  File \"/usr/local/Cellar/python@3.9/3.9.8/Frameworks/Python.framework/Versions/3.9/lib/python3.9/importlib/__init__.py\", line 169, in reload\n",
      "    _bootstrap._exec(spec, module)\n",
      "  File \"<frozen importlib._bootstrap>\", line 613, in _exec\n",
      "  File \"<frozen importlib._bootstrap_external>\", line 850, in exec_module\n",
      "  File \"<frozen importlib._bootstrap>\", line 228, in _call_with_frames_removed\n",
      "  File \"/usr/local/lib/python3.9/site-packages/statsmodels/tools/_testing.py\", line 11, in <module>\n",
      "    from statsmodels.compat.pandas import assert_equal\n",
      "ImportError: cannot import name 'assert_equal' from 'statsmodels.compat.pandas' (/usr/local/lib/python3.9/site-packages/statsmodels/compat/pandas.py)\n",
      "]\n",
      "[autoreload of statsmodels.tsa.tsatools failed: Traceback (most recent call last):\n",
      "  File \"/usr/local/lib/python3.9/site-packages/IPython/extensions/autoreload.py\", line 245, in check\n",
      "    superreload(m, reload, self.old_objects)\n",
      "  File \"/usr/local/lib/python3.9/site-packages/IPython/extensions/autoreload.py\", line 394, in superreload\n",
      "    module = reload(module)\n",
      "  File \"/usr/local/Cellar/python@3.9/3.9.8/Frameworks/Python.framework/Versions/3.9/lib/python3.9/imp.py\", line 314, in reload\n",
      "    return importlib.reload(module)\n",
      "  File \"/usr/local/Cellar/python@3.9/3.9.8/Frameworks/Python.framework/Versions/3.9/lib/python3.9/importlib/__init__.py\", line 169, in reload\n",
      "    _bootstrap._exec(spec, module)\n",
      "  File \"<frozen importlib._bootstrap>\", line 613, in _exec\n",
      "  File \"<frozen importlib._bootstrap_external>\", line 850, in exec_module\n",
      "  File \"<frozen importlib._bootstrap>\", line 228, in _call_with_frames_removed\n",
      "  File \"/usr/local/lib/python3.9/site-packages/statsmodels/tsa/tsatools.py\", line 2, in <module>\n",
      "    from statsmodels.compat.numpy import recarray_select\n",
      "ImportError: cannot import name 'recarray_select' from 'statsmodels.compat.numpy' (/usr/local/lib/python3.9/site-packages/statsmodels/compat/numpy.py)\n",
      "]\n",
      "[autoreload of statsmodels.tsa.ar_model failed: Traceback (most recent call last):\n",
      "  File \"/usr/local/lib/python3.9/site-packages/IPython/extensions/autoreload.py\", line 245, in check\n",
      "    superreload(m, reload, self.old_objects)\n",
      "  File \"/usr/local/lib/python3.9/site-packages/IPython/extensions/autoreload.py\", line 410, in superreload\n",
      "    update_generic(old_obj, new_obj)\n",
      "  File \"/usr/local/lib/python3.9/site-packages/IPython/extensions/autoreload.py\", line 347, in update_generic\n",
      "    update(a, b)\n",
      "  File \"/usr/local/lib/python3.9/site-packages/IPython/extensions/autoreload.py\", line 302, in update_class\n",
      "    if update_generic(old_obj, new_obj): continue\n",
      "  File \"/usr/local/lib/python3.9/site-packages/IPython/extensions/autoreload.py\", line 347, in update_generic\n",
      "    update(a, b)\n",
      "  File \"/usr/local/lib/python3.9/site-packages/IPython/extensions/autoreload.py\", line 266, in update_function\n",
      "    setattr(old, name, getattr(new, name))\n",
      "ValueError: __init__() requires a code object with 0 free vars, not 1\n",
      "]\n",
      "[autoreload of statsmodels.tsa.stattools failed: Traceback (most recent call last):\n",
      "  File \"/usr/local/lib/python3.9/site-packages/IPython/extensions/autoreload.py\", line 245, in check\n",
      "    superreload(m, reload, self.old_objects)\n",
      "  File \"/usr/local/lib/python3.9/site-packages/IPython/extensions/autoreload.py\", line 410, in superreload\n",
      "    update_generic(old_obj, new_obj)\n",
      "  File \"/usr/local/lib/python3.9/site-packages/IPython/extensions/autoreload.py\", line 347, in update_generic\n",
      "    update(a, b)\n",
      "  File \"/usr/local/lib/python3.9/site-packages/IPython/extensions/autoreload.py\", line 266, in update_function\n",
      "    setattr(old, name, getattr(new, name))\n",
      "ValueError: acf() requires a code object with 0 free vars, not 5\n",
      "]\n",
      "Feature Extraction: 100%|██████████| 20/20 [04:11<00:00, 12.57s/it]\n"
     ]
    }
   ],
   "source": [
    "test_df = extract_features(rdf,column_id='id', column_sort='t')"
   ]
  },
  {
   "cell_type": "code",
   "execution_count": 21,
   "metadata": {
    "ExecuteTime": {
     "end_time": "2021-11-27T13:47:59.003712Z",
     "start_time": "2021-11-27T13:47:58.916999Z"
    }
   },
   "outputs": [],
   "source": [
    "test_df.replace([np.inf, -np.inf, np.nan], 0, inplace=True)"
   ]
  },
  {
   "cell_type": "code",
   "execution_count": 23,
   "metadata": {
    "ExecuteTime": {
     "end_time": "2021-11-27T13:48:07.298002Z",
     "start_time": "2021-11-27T13:48:07.248989Z"
    }
   },
   "outputs": [],
   "source": [
    "test_df.drop(['epi__abs_energy'],axis=1,inplace=True) #this is just because this feature produces errors"
   ]
  },
  {
   "cell_type": "code",
   "execution_count": 24,
   "metadata": {
    "ExecuteTime": {
     "end_time": "2021-11-27T13:48:12.188511Z",
     "start_time": "2021-11-27T13:48:10.352025Z"
    }
   },
   "outputs": [],
   "source": [
    "import time\n",
    "mapper = km.KeplerMapper(verbose=0)\n",
    "import umap\n",
    "lens = mapper.fit_transform(np.array(test_df.values).T, projection=umap.UMAP(n_neighbors=10,\n",
    "                                                        min_dist=0.5,\n",
    "                                                        n_components=2,\n",
    "                                                        metric='euclidean',\n",
    "                                                        random_state=int(time.time())))"
   ]
  },
  {
   "cell_type": "code",
   "execution_count": 25,
   "metadata": {
    "ExecuteTime": {
     "end_time": "2021-11-27T13:48:12.996708Z",
     "start_time": "2021-11-27T13:48:12.827892Z"
    }
   },
   "outputs": [
    {
     "data": {
      "text/plain": [
       "<matplotlib.collections.PathCollection at 0x16dac8be0>"
      ]
     },
     "execution_count": 25,
     "metadata": {},
     "output_type": "execute_result"
    },
    {
     "data": {
      "image/png": "[encoded data removed]",
      "text/plain": [
       "<Figure size 432x288 with 1 Axes>"
      ]
     },
     "metadata": {
      "needs_background": "light"
     },
     "output_type": "display_data"
    }
   ],
   "source": [
    "%matplotlib inline \n",
    "import matplotlib.pyplot as plt\n",
    "plt.scatter(lens[:,0], lens[:,1])"
   ]
  },
  {
   "cell_type": "code",
   "execution_count": 26,
   "metadata": {
    "ExecuteTime": {
     "end_time": "2021-11-27T13:48:19.252270Z",
     "start_time": "2021-11-27T13:48:15.178579Z"
    }
   },
   "outputs": [],
   "source": [
    "# Get the simplicial complex  \n",
    "scomplex = mapper.map(lens, test_df.values.T,\n",
    "                      clusterer=sklearn.cluster.KMeans(n_clusters=2),#eps=0.5, min_samples=2),\n",
    "                      cover=km.Cover(20, 0.8))"
   ]
  },
  {
   "cell_type": "code",
   "execution_count": 28,
   "metadata": {
    "ExecuteTime": {
     "end_time": "2021-11-27T13:48:27.452356Z",
     "start_time": "2021-11-27T13:48:24.987958Z"
    }
   },
   "outputs": [
    {
     "data": {
      "application/vnd.jupyter.widget-view+json": {
       "model_id": "3a71c8d9a2ab4a818c1bd126ccd581aa",
       "version_major": 2,
       "version_minor": 0
      },
      "text/plain": [
       "VBox(children=(FigureWidget({\n",
       "    'data': [{'hoverinfo': 'none',\n",
       "              'line': {'color': 'rgb(180,180,…"
      ]
     },
     "metadata": {},
     "output_type": "display_data"
    }
   ],
   "source": [
    "color_function = lens[:, 1]-lens[:, 1].min()\n",
    "plotlyviz(scomplex, \n",
    "          title='Mapper graph of timeseries features',\n",
    "          color_function=color_function, \n",
    "          color_function_name='Distance to y-min', \n",
    "          node_linecolor='rgb(100,100,100)',\n",
    "          bgcolor='rgb(240,240,240)',\n",
    "          width=620, height=620,\n",
    "          summary_height=350,\n",
    "          summary_left=10,\n",
    "          hist_left=25,\n",
    "          hist_right=10,\n",
    "          graph_data=True)"
   ]
  },
  {
   "cell_type": "code",
   "execution_count": 29,
   "metadata": {
    "ExecuteTime": {
     "end_time": "2021-11-27T13:48:29.945951Z",
     "start_time": "2021-11-27T13:48:27.492050Z"
    }
   },
   "outputs": [
    {
     "data": {
      "application/vnd.jupyter.widget-view+json": {
       "model_id": "7338ae1806e74286b4194352297dcda9",
       "version_major": 2,
       "version_minor": 0
      },
      "text/plain": [
       "VBox(children=(HBox(children=(FigureWidget({\n",
       "    'data': [{'hoverinfo': 'none',\n",
       "              'line': {'color'…"
      ]
     },
     "metadata": {},
     "output_type": "display_data"
    }
   ],
   "source": [
    "color_function = lens[:, 1]-lens[:, 1].min()\n",
    "plotlyviz(scomplex, \n",
    "          title='Mapper graph of timeseries features',\n",
    "          color_function=color_function, \n",
    "          color_function_name='Distance to y-min', \n",
    "          node_linecolor='rgb(100,100,100)',\n",
    "          bgcolor='rgb(240,240,240)',\n",
    "          width=620, height=620,\n",
    "          summary_height=350,\n",
    "          summary_left=10,\n",
    "          hist_left=25,\n",
    "          hist_right=10,\n",
    "          member_textbox_width=500,\n",
    "          dashboard=True)"
   ]
  },
  {
   "cell_type": "markdown",
   "metadata": {},
   "source": [
    "Let's save the result in html format and visualize it in interactive mode"
   ]
  },
  {
   "cell_type": "code",
   "execution_count": 30,
   "metadata": {
    "ExecuteTime": {
     "end_time": "2021-11-27T13:49:10.608021Z",
     "start_time": "2021-11-27T13:49:09.302639Z"
    }
   },
   "outputs": [],
   "source": [
    "labels_n = test_df.columns\n",
    "# Tooltips with the membership labels for every cluster member\n",
    "html =  mapper.visualize(scomplex,\n",
    "                          path_html=\"keplermapper_feature_custom_tooltips.html\",\n",
    "                          custom_tooltips=labels_n)"
   ]
  },
  {
   "cell_type": "code",
   "execution_count": 39,
   "metadata": {
    "ExecuteTime": {
     "end_time": "2021-11-27T13:55:15.704892Z",
     "start_time": "2021-11-27T13:55:15.645968Z"
    }
   },
   "outputs": [],
   "source": [
    "from kmapper import jupyter # Creates custom CSS full-size Jupyter screen\n",
    "jupyter.display(path_html=\"keplermapper_feature_custom_tooltips.html\")"
   ]
  },
  {
   "cell_type": "markdown",
   "metadata": {},
   "source": [
    "Let's label the diseases and see whether we can tell them apart from the features.  \n",
    "You can assign the disease labels to the state data. "
   ]
  },
  {
   "cell_type": "code",
   "execution_count": 32,
   "metadata": {
    "ExecuteTime": {
     "end_time": "2021-11-27T13:49:29.100088Z",
     "start_time": "2021-11-27T13:49:29.044733Z"
    }
   },
   "outputs": [],
   "source": [
    "classification_labels = [0]*60\n",
    "classification_labels.extend([1]*60)\n",
    "classification_labels.extend([2]*60)"
   ]
  },
  {
   "cell_type": "markdown",
   "metadata": {},
   "source": [
    "And try to exploit the properties of the mapper graph to choose features wisely. "
   ]
  },
  {
   "cell_type": "code",
   "execution_count": 55,
   "metadata": {
    "ExecuteTime": {
     "end_time": "2021-11-27T14:02:42.050456Z",
     "start_time": "2021-11-27T14:02:34.288804Z"
    }
   },
   "outputs": [],
   "source": [
    "g = km.to_networkx(scomplex);\n",
    "import networkx as nx\n",
    "GC = g.subgraph(list(nx.connected_components(g))[0]);\n",
    "ecc = nx.eccentricity(GC)\n",
    "# bet = nx.betweenness_centrality(GC)\n",
    "# deg = dict(nx.degree(GC))"
   ]
  },
  {
   "cell_type": "code",
   "execution_count": 59,
   "metadata": {
    "ExecuteTime": {
     "end_time": "2021-11-27T14:04:48.262734Z",
     "start_time": "2021-11-27T14:04:39.603882Z"
    }
   },
   "outputs": [
    {
     "name": "stdout",
     "output_type": "stream",
     "text": [
      "Accuracy of Logistic regression classifier on training set: 0.46\n",
      "Accuracy of Logistic regression classifier on test set: 0.42\n",
      "Accuracy of Logistic regression classifier on training set: 0.40\n",
      "Accuracy of Logistic regression classifier on test set: 0.40\n",
      "Accuracy of Logistic regression classifier on training set: 0.41\n",
      "Accuracy of Logistic regression classifier on test set: 0.44\n",
      "Accuracy of Logistic regression classifier on training set: 0.42\n",
      "Accuracy of Logistic regression classifier on test set: 0.42\n",
      "Accuracy of Logistic regression classifier on training set: 0.44\n",
      "Accuracy of Logistic regression classifier on test set: 0.44\n",
      "Accuracy of Logistic regression classifier on training set: 0.50\n",
      "Accuracy of Logistic regression classifier on test set: 0.44\n",
      "Accuracy of Logistic regression classifier on training set: 0.59\n",
      "Accuracy of Logistic regression classifier on test set: 0.62\n",
      "Accuracy of Logistic regression classifier on training set: 0.70\n",
      "Accuracy of Logistic regression classifier on test set: 0.76\n",
      "Accuracy of Logistic regression classifier on training set: 0.71\n",
      "Accuracy of Logistic regression classifier on test set: 0.78\n",
      "Accuracy of Logistic regression classifier on training set: 0.73\n",
      "Accuracy of Logistic regression classifier on test set: 0.78\n",
      "Accuracy of Logistic regression classifier on training set: 0.73\n",
      "Accuracy of Logistic regression classifier on test set: 0.78\n",
      "Accuracy of Logistic regression classifier on training set: 0.73\n",
      "Accuracy of Logistic regression classifier on test set: 0.78\n",
      "Accuracy of Logistic regression classifier on training set: 0.73\n",
      "Accuracy of Logistic regression classifier on test set: 0.78\n",
      "Accuracy of Logistic regression classifier on training set: 0.73\n",
      "Accuracy of Logistic regression classifier on test set: 0.78\n",
      "Accuracy of Logistic regression classifier on training set: 0.73\n",
      "Accuracy of Logistic regression classifier on test set: 0.78\n",
      "Accuracy of Logistic regression classifier on training set: 0.72\n",
      "Accuracy of Logistic regression classifier on test set: 0.80\n",
      "Accuracy of Logistic regression classifier on training set: 0.72\n",
      "Accuracy of Logistic regression classifier on test set: 0.80\n",
      "Accuracy of Logistic regression classifier on training set: 0.70\n",
      "Accuracy of Logistic regression classifier on test set: 0.82\n",
      "Accuracy of Logistic regression classifier on training set: 0.70\n",
      "Accuracy of Logistic regression classifier on test set: 0.82\n",
      "Accuracy of Logistic regression classifier on training set: 0.70\n",
      "Accuracy of Logistic regression classifier on test set: 0.84\n",
      "Accuracy of Logistic regression classifier on training set: 0.74\n",
      "Accuracy of Logistic regression classifier on test set: 0.84\n",
      "Accuracy of Logistic regression classifier on training set: 0.74\n",
      "Accuracy of Logistic regression classifier on test set: 0.84\n",
      "Accuracy of Logistic regression classifier on training set: 0.74\n",
      "Accuracy of Logistic regression classifier on test set: 0.84\n",
      "Accuracy of Logistic regression classifier on training set: 0.74\n",
      "Accuracy of Logistic regression classifier on test set: 0.84\n",
      "Accuracy of Logistic regression classifier on training set: 0.74\n",
      "Accuracy of Logistic regression classifier on test set: 0.84\n",
      "Accuracy of Logistic regression classifier on training set: 0.74\n",
      "Accuracy of Logistic regression classifier on test set: 0.84\n",
      "Accuracy of Logistic regression classifier on training set: 0.75\n",
      "Accuracy of Logistic regression classifier on test set: 0.84\n"
     ]
    }
   ],
   "source": [
    "real_score = []\n",
    "random_score = []\n",
    "\n",
    "frac = 0.05\n",
    "for topk in range(1,int(GC.number_of_nodes()*frac)):\n",
    "\n",
    "    s = [(k, ecc[k]) for k in sorted(ecc, key=ecc.get, reverse=False)]\n",
    "#     s = [(k, bet[k]) for k in sorted(bet, key=bet.get, reverse=True)]\n",
    "#     s = [(k, deg[k]) for k in sorted(deg, key=deg.get, reverse=False)]\n",
    "    selected_columns = []\n",
    "    mem = nx.get_node_attributes(GC,'membership')\n",
    "    cols = test_df.columns\n",
    "    for k in range(topk):\n",
    "        selected_columns.append(cols[mem[s[k][0]]][0]) \n",
    "\n",
    "    y = classification_labels    \n",
    "    X = test_df[selected_columns]\n",
    "\n",
    "\n",
    "    from sklearn.model_selection import train_test_split\n",
    "    X_train, X_test, y_train, y_test = train_test_split(X, y, random_state=0)\n",
    "    from sklearn.preprocessing import MinMaxScaler\n",
    "    scaler = MinMaxScaler()\n",
    "    X_train = scaler.fit_transform(X_train)\n",
    "    X_test = scaler.transform(X_test)\n",
    "\n",
    "\n",
    "    from sklearn.linear_model import LogisticRegression\n",
    "    logreg = LogisticRegression()\n",
    "    logreg.fit(X_train, y_train)\n",
    "    print('Accuracy of Logistic regression classifier on training set: {:.2f}'\n",
    "         .format(logreg.score(X_train, y_train)))\n",
    "    print('Accuracy of Logistic regression classifier on test set: {:.2f}'\n",
    "         .format(logreg.score(X_test, y_test)))\n",
    "    real_score.append((logreg.score(X_train, y_train),logreg.score(X_test, y_test)))\n",
    "    iterations = 20\n",
    "    res = []\n",
    "\n",
    "    for it in range(iterations):\n",
    "\n",
    "        random_cols = np.random.choice(cols,len(selected_columns))\n",
    "        X_random = test_df[random_cols]\n",
    "\n",
    "        from sklearn.model_selection import train_test_split\n",
    "        X_train, X_test, y_train, y_test = train_test_split(X_random, y,random_state=int(time.time()))\n",
    "        from sklearn.preprocessing import MinMaxScaler\n",
    "        scaler = MinMaxScaler()\n",
    "        X_train = scaler.fit_transform(X_train)\n",
    "        X_test = scaler.transform(X_test)\n",
    "\n",
    "\n",
    "        from sklearn.linear_model import LogisticRegression\n",
    "        logreg = LogisticRegression()\n",
    "        logreg.fit(X_train, y_train)\n",
    "        res.append((logreg.score(X_train, y_train),logreg.score(X_test, y_test)));\n",
    "    random_score.append((np.mean([x[0] for x in res]),np.mean([x[1] for x in res])))"
   ]
  },
  {
   "cell_type": "code",
   "execution_count": 67,
   "metadata": {
    "ExecuteTime": {
     "end_time": "2021-11-27T14:06:15.118916Z",
     "start_time": "2021-11-27T14:06:14.922566Z"
    }
   },
   "outputs": [
    {
     "data": {
      "text/plain": [
       "Text(0.5, 1.0, 'test')"
      ]
     },
     "execution_count": 67,
     "metadata": {},
     "output_type": "execute_result"
    },
    {
     "data": {
      "image/png": "[encoded data removed]",
      "text/plain": [
       "<Figure size 432x288 with 2 Axes>"
      ]
     },
     "metadata": {
      "needs_background": "light"
     },
     "output_type": "display_data"
    }
   ],
   "source": [
    "plt.subplot(121)\n",
    "plt.plot([x[0] for x in real_score])\n",
    "plt.plot([x[0] for x in random_score],'k')\n",
    "plt.ylim(0,1)\n",
    "plt.title('train')\n",
    "\n",
    "plt.subplot(122)\n",
    "plt.plot([x[1] for x in real_score])\n",
    "plt.plot([x[1] for x in random_score],'k')\n",
    "plt.ylim(0,1)\n",
    "plt.title('test')"
   ]
  },
  {
   "cell_type": "markdown",
   "metadata": {},
   "source": [
    "# Exercises \n",
    "- can you classify states instead of diseases?\n",
    "- where do classically interesting features lie?\n",
    "- etc \n"
   ]
  },
  {
   "cell_type": "code",
   "execution_count": null,
   "metadata": {},
   "outputs": [],
   "source": []
  }
 ],
 "metadata": {
  "kernelspec": {
   "display_name": "Python 3",
   "language": "python",
   "name": "python3"
  },
  "language_info": {
   "codemirror_mode": {
    "name": "ipython",
    "version": 3
   },
   "file_extension": ".py",
   "mimetype": "text/x-python",
   "name": "python",
   "nbconvert_exporter": "python",
   "pygments_lexer": "ipython3",
   "version": "3.9.8"
  },
  "toc": {
   "base_numbering": 1,
   "nav_menu": {},
   "number_sections": true,
   "sideBar": true,
   "skip_h1_title": false,
   "title_cell": "Table of Contents",
   "title_sidebar": "Contents",
   "toc_cell": false,
   "toc_position": {},
   "toc_section_display": true,
   "toc_window_display": false
  }
 },
 "nbformat": 4,
 "nbformat_minor": 2
}
